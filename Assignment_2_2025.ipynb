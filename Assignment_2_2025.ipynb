{
 "cells": [
  {
   "cell_type": "markdown",
   "metadata": {
    "deletable": false,
    "editable": false,
    "nbgrader": {
     "cell_type": "markdown",
     "checksum": "2c86880f7dbd4ba64c6de52c2385d902",
     "grade": false,
     "grade_id": "cell-5cd566ae8d583383",
     "locked": true,
     "schema_version": 3,
     "solution": false,
     "task": false
    }
   },
   "source": [
    "# COMP90016 - Assignment 2\n",
    "Version 1. Last edited 14/04/2025\n",
    "\n",
    "## Semester 1, 2025"
   ]
  },
  {
   "cell_type": "code",
   "execution_count": 1,
   "metadata": {},
   "outputs": [],
   "source": [
    "NAME = \"Hanning Chen\"\n",
    "\n",
    "ID = \"1434345\""
   ]
  },
  {
   "cell_type": "markdown",
   "metadata": {
    "deletable": false,
    "editable": false,
    "nbgrader": {
     "cell_type": "markdown",
     "checksum": "750af8623519a4ae9a7ef2940b667978",
     "grade": false,
     "grade_id": "cell-ea0e1a6df37e43f5",
     "locked": true,
     "schema_version": 3,
     "solution": false,
     "task": false
    }
   },
   "source": [
    "\n",
    "This assignment should be completed by each student individually. Make sure you read this entire document, and ask for help if anything is not clear. Any changes or clarifications to this document will be announced via the LMS.\n",
    "\n",
    "Please make sure you review the University's rules on academic integrity: https://academicintegrity.unimelb.edu.au/\n",
    "\n",
    "You submission must be your own work. Do not copy material from other students, from the internet or from AI tools. \n",
    "\n",
    "Your completed notebook file containing all your answers will be turned in via Canvas. Please also submit an HTML file with the output cleared.\n",
    "\n",
    "To complete the assignment, finish the tasks in this notebook.\n",
    "\n",
    "The tasks are a combination of writing your own code, interpreting the results and answering related short-answer questions.\n",
    "\n",
    "In some cases, we have provided test input and test output that you can use to try out your solutions. These tests are just samples and are **not** exhaustive - they may warn you if you've made a mistake, but they are not guaranteed to. It's up to you to decide whether your code is correct.\n",
    "\n",
    "**Remember to save your work early and often.**"
   ]
  },
  {
   "cell_type": "markdown",
   "metadata": {
    "deletable": false,
    "editable": false,
    "nbgrader": {
     "cell_type": "markdown",
     "checksum": "f3c99f853e3af8f47e33a9bb725357e8",
     "grade": false,
     "grade_id": "cell-a654a22c19fdefbe",
     "locked": true,
     "schema_version": 3,
     "solution": false,
     "task": false
    }
   },
   "source": [
    "## Marking\n",
    "\n",
    "Cells that must be completed to receive marks are clearly labelled. Some cells are code cells, in which you must complete the code to solve a problem. Others are markdown cells, in which you must write your answers to short-answer questions. \n",
    "\n",
    "Cells that must be completed to receive marks are labelled like this:\n",
    "\n",
    "`# -- GRADED CELL (1 mark) - complete this cell --`\n",
    "\n",
    "Some graded cells are code cells, in which you must complete the code to solve a problem. Other graded cells are markdown cells, in which you must write your answers to short-answer questions. \n",
    "\n",
    "You will see the following text in graded code cells:\n",
    "\n",
    "```\n",
    "# YOUR CODE HERE\n",
    "raise NotImplementedError()\n",
    "```\n",
    "\n",
    "***You must remove the `raise NotImplementedError()` line from the cell, and replace it with your solution.***\n",
    "\n",
    "Only add answers to graded cells. If you want to import a library or use a helper function, this must be included in a graded cell.\n",
    "\n",
    "Only graded cells will be marked.\n",
    "**Don't make changes outside graded cells, and don't add or remove cells from the notebook**.\n",
    "\n",
    ">Word limits, where stated, will be strictly enforced. Answers exceeding the limit **will not be marked**.\n",
    "\n",
    ">Run-time limits will be imposed for each coding question. The run-time of a code cell can be calculated by including `%time` at the top of your cell. Cells exceeding the run-time limit **will not be marked**. The run-time limits only apply to test cases that are included in this document.\n",
    "\n",
    "No marks are allocated to commenting in your code. We do however, encourage efficient and well-commented code.\n",
    "\n",
    "The total marks for the assignment add up to 100, and it will be worth 10% of your overall subject grade.\n",
    "\n",
    "Part 1: 20 marks\n",
    "\n",
    "Part 2: 35 marks\n",
    "\n",
    "Part 3: 30 marks\n",
    "\n",
    "Part 4: 15 marks"
   ]
  },
  {
   "cell_type": "markdown",
   "metadata": {
    "deletable": false,
    "editable": false,
    "nbgrader": {
     "cell_type": "markdown",
     "checksum": "a223c9a6a8b876260f675f0b76371345",
     "grade": false,
     "grade_id": "cell-a8f3f9ddb8997b46",
     "locked": true,
     "schema_version": 3,
     "solution": false,
     "task": false
    }
   },
   "source": [
    "## Submitting\n",
    "\n",
    "Before you turn this assignment in, make sure everything runs as expected. First, **restart the kernel** (in the menubar, select Kernel$\\rightarrow$Restart) and then **run all cells** (in the menubar, select Cell$\\rightarrow$Run All).\n",
    "\n",
    "Make sure you fill in any place that says `YOUR CODE HERE` or \"YOUR ANSWER HERE\", as well as your name and student ID at the top of this notebook.\n",
    "\n",
    "\n",
    "Your completed notebook file containing all your answers must be turned in via LMS in `.ipynb` format.\n",
    "You must also submit a copy of this notebook in `html` format with the output cleared.\n",
    "You can do this by using the `clear all output` option in the menu.\n",
    "\n",
    "Your submission should include **only two** files with names formatted as: **Assignment_2.ipynb** and **Assignment_2.html**"
   ]
  },
  {
   "cell_type": "markdown",
   "metadata": {
    "deletable": false,
    "editable": false,
    "nbgrader": {
     "cell_type": "markdown",
     "checksum": "e7f29cc0f4c738b754ebd7004fe9079f",
     "grade": false,
     "grade_id": "cell-231ce2cdcc452d8d",
     "locked": true,
     "schema_version": 3,
     "solution": false,
     "task": false
    }
   },
   "source": [
    "## Overview\n",
    "\n",
    "In this assignment, you will answer questions about sequence alignment and variant calling.\n",
    "\n",
    "You will use the `pysam` and `biopython` libraries in your functions. You may want to refer to sections of the documentation for these tools for additional help. Additional to `pysam`, `biopython` and standard Python 3 functions and methods, you may also use any other library we have used in Computational Genomics including `collections`, `numpy`, `pandas`, `math`, `itertools`, `seaborn` and `matplotlib`.\n",
    "\n",
    "You will also use the following command-line tools: `BLAST`, `BWA` and `Samtools`. \n",
    "\n",
    "\n",
    "The following conda command was used to create the binder :\n",
    "\n",
    "```conda create -n cg_assignment2 bwa samtools pysam biopython matplotlib seaborn blast numpy pandas```\n"
   ]
  },
  {
   "cell_type": "markdown",
   "metadata": {
    "deletable": false,
    "editable": false,
    "nbgrader": {
     "cell_type": "markdown",
     "checksum": "b1e9aace2837e55c85c9be2b30a0c389",
     "grade": false,
     "grade_id": "cell-cb61bd3dd20d0831",
     "locked": true,
     "schema_version": 3,
     "solution": false,
     "task": false
    }
   },
   "source": [
    "## Setup"
   ]
  },
  {
   "cell_type": "code",
   "execution_count": 2,
   "metadata": {
    "deletable": false,
    "editable": false,
    "nbgrader": {
     "cell_type": "code",
     "checksum": "5efc00fed8fe4afd120be8114ac04555",
     "grade": false,
     "grade_id": "cell-eca7f6df2f0e77fc",
     "locked": true,
     "schema_version": 3,
     "solution": false,
     "task": false
    }
   },
   "outputs": [],
   "source": [
    "import os\n",
    "import requests\n",
    "from IPython.core.display import HTML\n",
    "\n",
    "version = 2025\n",
    "base_url = f'https://raw.githubusercontent.com/melbournebioinformatics/COMP90016/{version}'\n",
    "\n",
    "# Function to get data.\n",
    "def fetch_file(url, outpath='.'):\n",
    "    response = requests.get(url)\n",
    "    if response.status_code == 200:\n",
    "        print('File found!')\n",
    "        # Get the filename from the URL\n",
    "        filename = os.path.basename(url).split('?', 1)[0]\n",
    "        # Construct the filepath using the specified directory and filename\n",
    "        filepath = os.path.join(outpath, filename)\n",
    "        # Create the directory if it doesn't exist\n",
    "        if not os.path.exists(outpath):\n",
    "            print(f'Creating output dir: {outpath}')\n",
    "            os.makedirs(outpath)\n",
    "        # Check if the file already exists in the specified directory\n",
    "        if os.path.exists(filepath):\n",
    "            print(f'{filename} already exists in {outpath}. Skip download.')\n",
    "        else:\n",
    "            with open(filepath, 'wb') as f:\n",
    "                f.write(response.content)\n",
    "                f.close()\n",
    "            print(f'Saved to: {filepath}')\n",
    "    else:\n",
    "        print(f'File not found: Code {response.status_code}')"
   ]
  },
  {
   "cell_type": "code",
   "execution_count": 3,
   "metadata": {},
   "outputs": [
    {
     "data": {
      "text/html": [
       "<style>\n",
       "h1 {\n",
       "    border: 3.0px solid #333;\n",
       "    padding: 12px 18px;\n",
       "    background-color: #C8D3FD;\n",
       "    color: #333\n",
       "}\n",
       "\n",
       "h2 {\n",
       "    padding: 12px 18px;\n",
       "    background-color: #C8D3FD;\n",
       "    color: #333\n",
       "}\n",
       "\n",
       ".question {\n",
       "    color: rgb(0, 96, 100);\n",
       "    background: rgb(178, 235, 242);\n",
       "    border: solid 1px rgb(77, 208, 225);\n",
       "    padding: 10px;\n",
       "}\n",
       "\n",
       ".info {\n",
       "    color: rgb(27, 94, 32);\n",
       "    background: rgb(200, 230, 201);\n",
       "    border: solid 1px rgb(129, 199, 132);\n",
       "    padding: 10px;\n",
       "}\n",
       "</style>\n"
      ],
      "text/plain": [
       "<IPython.core.display.HTML object>"
      ]
     },
     "execution_count": 3,
     "metadata": {},
     "output_type": "execute_result"
    }
   ],
   "source": [
    "# Make the notebook pretty\n",
    "\n",
    "HTML(requests.get(f'{base_url}/common/style/custom.css').text)"
   ]
  },
  {
   "cell_type": "code",
   "execution_count": 4,
   "metadata": {
    "deletable": false,
    "editable": false,
    "nbgrader": {
     "cell_type": "code",
     "checksum": "8bca57220c0dfb8d1e0d6826a29e979b",
     "grade": false,
     "grade_id": "cell-0664141ba25828c7",
     "locked": true,
     "schema_version": 3,
     "solution": false,
     "task": false
    }
   },
   "outputs": [
    {
     "name": "stdout",
     "output_type": "stream",
     "text": [
      "File found!\n",
      "Creating output dir: ./data/\n",
      "Saved to: ./data/comp90016_assignment_2_S_harrisii_y.fasta\n",
      "File found!\n",
      "Saved to: ./data/comp90016_assignment_2_database.fasta\n",
      "File found!\n",
      "Saved to: ./data/comp90016_assignment_2_dnaA.bam\n",
      "File found!\n",
      "Saved to: ./data/comp90016_assignment_2_dnaA.bam.bai\n",
      "File found!\n",
      "Saved to: ./data/comp90016_assignment_2_dnaA_ref.fasta\n",
      "File found!\n",
      "Saved to: ./data/comp90016_assignment_2_dnaA_ref.fasta.fai\n",
      "File found!\n",
      "Saved to: ./data/comp90016_assignment_2_query.fasta\n",
      "File found!\n",
      "Saved to: ./data/comp90016_assignment_2_reads_R1.fastq.gz\n",
      "File found!\n",
      "Saved to: ./data/comp90016_assignment_2_reads_R2.fastq.gz\n"
     ]
    }
   ],
   "source": [
    "# Fetch assignment data\n",
    "f_names = [\"comp90016_assignment_2_S_harrisii_y.fasta\",\n",
    "\"comp90016_assignment_2_database.fasta\",\n",
    "\"comp90016_assignment_2_dnaA.bam\",\n",
    "\"comp90016_assignment_2_dnaA.bam.bai\",\n",
    "\"comp90016_assignment_2_dnaA_ref.fasta\",\n",
    "\"comp90016_assignment_2_dnaA_ref.fasta.fai\",\n",
    "\"comp90016_assignment_2_query.fasta\",\n",
    "\"comp90016_assignment_2_reads_R1.fastq.gz\",\n",
    "\"comp90016_assignment_2_reads_R2.fastq.gz\"]\n",
    "\n",
    "for filename in f_names:     \n",
    "    url = f'{base_url}/assignment/02/data/{filename}?raw=true'\n",
    "    fetch_file(url, './data/')"
   ]
  },
  {
   "cell_type": "markdown",
   "metadata": {
    "deletable": false,
    "editable": false,
    "nbgrader": {
     "cell_type": "markdown",
     "checksum": "3290207b18030dc1eaf5132425408f0b",
     "grade": false,
     "grade_id": "cell-364cd6139bcc3f74",
     "locked": true,
     "schema_version": 3,
     "solution": false,
     "task": false
    }
   },
   "source": [
    "## Part 1: BLAST"
   ]
  },
  {
   "cell_type": "markdown",
   "metadata": {
    "deletable": false,
    "editable": false,
    "nbgrader": {
     "cell_type": "markdown",
     "checksum": "7db14284183089f6564b2e55eb5852a6",
     "grade": false,
     "grade_id": "cell-7bb9f56fdeefa80e",
     "locked": true,
     "schema_version": 3,
     "solution": false,
     "task": false
    }
   },
   "source": [
    "### Setup"
   ]
  },
  {
   "cell_type": "markdown",
   "metadata": {
    "deletable": false,
    "editable": false,
    "nbgrader": {
     "cell_type": "markdown",
     "checksum": "db2ef842da9efa33027f31032c3def86",
     "grade": false,
     "grade_id": "cell-9ed8653a6f115a66",
     "locked": true,
     "schema_version": 3,
     "solution": false,
     "task": false
    }
   },
   "source": [
    "Histamine receptors are a class of evolutionarily-related proteins that bind to histamine and trigger cellular responses. There are four histamine receptor proteins that are found across multiple species. These are referred to as HRH1, HRH2, HRH3 and HRH4.\n",
    "\n",
    "**comp90016_assignment_2_database.fasta** is a multi-FASTA file containing histamine receptor protein sequences from several species.\n",
    "\n",
    "**comp90016_assignment_2_query.fasta** is a FASTA file containing a protein sequence of a fragment of an unknown histamine receptor."
   ]
  },
  {
   "cell_type": "markdown",
   "metadata": {
    "deletable": false,
    "editable": false,
    "nbgrader": {
     "cell_type": "markdown",
     "checksum": "d64f1f6d26e59fe9b528704fe7b83b17",
     "grade": false,
     "grade_id": "cell-f53aec2e1fb97108",
     "locked": true,
     "schema_version": 3,
     "solution": false,
     "task": false
    }
   },
   "source": [
    "We will be using command-line BLAST to execute a search for matches to the query sequence in the database of histamine receptor sequences.\n",
    "\n",
    "If you would like to use your local computer, BLAST can be installed via [bioconda](https://anaconda.org/bioconda/blast) or downloaded [here](https://www.ncbi.nlm.nih.gov/books/NBK279671/). Otherwise, BLAST is pre-installed on the subject Binder. \n",
    "\n",
    "**Execute the following commands to complete the search.**\n",
    "\n",
    "```\n",
    "mkdir -p blastdb/\n",
    "cp data/comp90016_assignment_2_database.fasta blastdb/comp90016_assignment_2_database.fasta\n",
    "\n",
    "# Build a custom BLAST database using the histamine receptor protein sequences in the blast directory.\n",
    "makeblastdb -dbtype prot -in blastdb/comp90016_assignment_2_database.fasta -out blastdb/histamine_receptor_db\n",
    "\n",
    "# Execute a BLAST search against the custom database with the unknown protein sequence as the query.\n",
    "blastp -query data/comp90016_assignment_2_query.fasta -db blastdb/histamine_receptor_db -outfmt \"7 std ppos\"\n",
    "```"
   ]
  },
  {
   "cell_type": "markdown",
   "metadata": {
    "deletable": false,
    "editable": false,
    "nbgrader": {
     "cell_type": "markdown",
     "checksum": "70bd779c44fd9b157be2f3613cbfab5c",
     "grade": false,
     "grade_id": "cell-45278df4fd8f81a3",
     "locked": true,
     "schema_version": 3,
     "solution": false,
     "task": false
    }
   },
   "source": [
    "### Questions\n",
    "In the cells below, complete the following tasks:"
   ]
  },
  {
   "cell_type": "markdown",
   "metadata": {
    "deletable": false,
    "editable": false,
    "nbgrader": {
     "cell_type": "markdown",
     "checksum": "8c82ed427b3cf37a1849734c15a252da",
     "grade": false,
     "grade_id": "Q-1-1",
     "locked": true,
     "points": 5,
     "schema_version": 3,
     "solution": false,
     "task": true
    }
   },
   "source": [
    "<div class=\"question\">\n",
    "\n",
    "<h3> Question 1.1 </h3>\n",
    "\n",
    "(5 marks, max 50 words)\n",
    "\n",
    "Based on the results of the BLAST search, predict which type of histamine receptor the query protein sequence fragment originated from (HRH1, HRH2, HRH3 or HRH4). Justify your choice.\n",
    "    \n",
    "</div>\n",
    "\n"
   ]
  },
  {
   "cell_type": "markdown",
   "metadata": {},
   "source": [
    "#### -- GRADED CELL (5 marks) - complete this cell --\n",
    "\n",
    "The query protein-sequence most likely originates from HRH3 because of \n",
    " - The top ranked sequences are HRH3 with very small E-values - close to 0 and high sequence identity - above 80%;\n",
    " - HRH1 and HRH4 are much weaker with relatively high Evalues and low sequence identity;\n",
    " - HRH2 does not show up in the table."
   ]
  },
  {
   "cell_type": "markdown",
   "metadata": {
    "deletable": false,
    "editable": false,
    "nbgrader": {
     "cell_type": "markdown",
     "checksum": "77537257d1dde036a421ae70e6d25cd8",
     "grade": false,
     "grade_id": "Q-1-2",
     "locked": true,
     "points": 5,
     "schema_version": 3,
     "solution": false,
     "task": true
    }
   },
   "source": [
    "<div class=\"question\">\n",
    "\n",
    "<h3> Question 1.2 </h3>\n",
    "\n",
    "(5 marks, max 50 words)\n",
    "\n",
    "Interpret the E-value of the top scoring BLAST hit. How confident are you in your BLAST results?\n",
    "    \n",
    "</div>\n",
    "\n"
   ]
  },
  {
   "cell_type": "markdown",
   "metadata": {},
   "source": [
    "#### -- GRADED CELL (5 marks) - complete this cell --\n",
    "\n",
    "The top-hit E-value is 1.72e-48 (HRH3_CAVPO) implying the expected number of matches with a similar score that can occur by random chance in the database is approximately 1.72e-48 $\\approx 0$. Such an extremely small e-value indicates the match is highly significant and is not due to randomness."
   ]
  },
  {
   "cell_type": "markdown",
   "metadata": {
    "deletable": false,
    "editable": false,
    "nbgrader": {
     "cell_type": "markdown",
     "checksum": "e1a2b535d5740b3307a7b877732ed2a2",
     "grade": false,
     "grade_id": "Q-1-3",
     "locked": true,
     "points": 5,
     "schema_version": 3,
     "solution": false,
     "task": true
    }
   },
   "source": [
    "<div class=\"question\">\n",
    "\n",
    "<h3> Question 1.3 </h3>\n",
    "\n",
    "(5 marks, max 50 words)\n",
    "\n",
    "Suppose you were provided with a nucleotide query sequence as a FASTA file (filename: comp90016_assignment_2_query_nucleotide.fasta). Modify the BLAST command provided above so that it would take the nucleotide query sequence as an input. Use the BLOSUM-80 substitution matrix. Please use the same output format and the same custom database used previously. Note that you are not required to execute this command.\n",
    "    \n",
    "</div>\n",
    "\n"
   ]
  },
  {
   "cell_type": "markdown",
   "metadata": {},
   "source": [
    "#### -- GRADED CELL (5 marks) - complete this cell --\n",
    "\n",
    "We do not need to change the second line,  makeblastdb $\\cdots$, which builds the protein database. Since we change the query sequence to nucleotide, we need the blastx command as follow\n",
    " - blastx -query data/comp90016_assignment_2_query_nucleotide.fasta -db blastdb/histamine_receptor_db -outfmt \"7 std ppos\" -matrix BLOSUM80\n",
    "\n",
    ", which matrix argument is specified."
   ]
  },
  {
   "cell_type": "markdown",
   "metadata": {
    "deletable": false,
    "editable": false,
    "nbgrader": {
     "cell_type": "markdown",
     "checksum": "cf76dc4f58ea3fd9e69d0d343924d00d",
     "grade": false,
     "grade_id": "Q-1-4",
     "locked": true,
     "points": 5,
     "schema_version": 3,
     "solution": false,
     "task": true
    }
   },
   "source": [
    "<div class=\"question\">\n",
    "\n",
    "<h3> Question 1.4 </h3>\n",
    "\n",
    "(5 marks, max 50 words)\n",
    "\n",
    "Suppose you execute a BLAST search and the top-scoring result is a match with 100% identity and 100% query coverage.\n",
    "This search was then repeated using the same parameters, but with additional sequences added to the database so that it was twice the original size. Would the E-value of the top-scoring hit increase, decrease or would it remain the same? Would the run-time of the search increase, decrease or would it remain the same?\n",
    "    \n",
    "</div>\n",
    "\n"
   ]
  },
  {
   "cell_type": "markdown",
   "metadata": {},
   "source": [
    "#### -- GRADED CELL (5 marks) - complete this cell --\n",
    "\n",
    "**The E-value of the top-scoring hit will increase**, since E-value is proportional to the database size, given query length and statistical parameters unchanged.\n",
    "**The run-tim of search will increase** because BLAST has to search through a larger database. "
   ]
  },
  {
   "cell_type": "markdown",
   "metadata": {
    "deletable": false,
    "editable": false,
    "nbgrader": {
     "cell_type": "markdown",
     "checksum": "af856c7e6630c86c6dbf973def98cc96",
     "grade": false,
     "grade_id": "cell-460c38f0afe64b68",
     "locked": true,
     "schema_version": 3,
     "solution": false,
     "task": false
    }
   },
   "source": [
    "## Part 2: Sequence Alignment"
   ]
  },
  {
   "cell_type": "markdown",
   "metadata": {
    "deletable": false,
    "editable": false,
    "nbgrader": {
     "cell_type": "markdown",
     "checksum": "7436a85fa5f7c4294da8fba6901373fb",
     "grade": false,
     "grade_id": "cell-fc5904f49fa3959c",
     "locked": true,
     "schema_version": 3,
     "solution": false,
     "task": false
    }
   },
   "source": [
    "### Setup"
   ]
  },
  {
   "cell_type": "markdown",
   "metadata": {
    "deletable": false,
    "editable": false,
    "nbgrader": {
     "cell_type": "markdown",
     "checksum": "0329a29b936f5a325c2760382473fc82",
     "grade": false,
     "grade_id": "cell-fea0b53fc71bc64a",
     "locked": true,
     "schema_version": 3,
     "solution": false,
     "task": false
    }
   },
   "source": [
    "We begin by importing `Biopython` so that we can take advantage of Bio.Align objects for storing and accessing sequence alignments."
   ]
  },
  {
   "cell_type": "code",
   "execution_count": 8,
   "metadata": {},
   "outputs": [],
   "source": [
    "from Bio import Align, Seq, SeqRecord"
   ]
  },
  {
   "cell_type": "markdown",
   "metadata": {
    "deletable": false,
    "editable": false,
    "nbgrader": {
     "cell_type": "markdown",
     "checksum": "5a88951401a742a1c136dcd362378d54",
     "grade": false,
     "grade_id": "cell-d73ed6f61136388d",
     "locked": true,
     "schema_version": 3,
     "solution": false,
     "task": false
    }
   },
   "source": [
    "In this section, we will be using amino-acid substitution matrices, encoded as 2D dictionaries. The cell below stores the BLOSUM-62 substitution matrix as a dictionary. The protein sequences used to test your code will only contain the one-letter codes of the 20 standard amino-acids."
   ]
  },
  {
   "cell_type": "code",
   "execution_count": 9,
   "metadata": {
    "deletable": false,
    "editable": false,
    "nbgrader": {
     "cell_type": "code",
     "checksum": "3b97ce67723874b2eaed1c0e34c6abb5",
     "grade": false,
     "grade_id": "cell-84eff1f1350a2427",
     "locked": true,
     "schema_version": 3,
     "solution": false,
     "task": false
    }
   },
   "outputs": [],
   "source": [
    "BLOSUM_62 = {\n",
    "    '*':{'*':1,'A':-4,'C':-4,'B':-4,'E':-4,'D':-4,'G':-4,'F':-4,'I':-4,'H':-4,'K':-4,'M':-4,'L':-4,'N':-4,'Q':-4,'P':-4,'S':-4,'R':-4,'T':-4,'W':-4,'V':-4,'Y':-4,'X':-4,'Z':-4},\n",
    "    'A':{'*':-4,'A':4,'C':0,'B':-2,'E':-1,'D':-2,'G':0,'F':-2,'I':-1,'H':-2,'K':-1,'M':-1,'L':-1,'N':-2,'Q':-1,'P':-1,'S':1,'R':-1,'T':0,'W':-3,'V':0,'Y':-2,'X':-1,'Z':-1},\n",
    "    'C':{'*':-4,'A':0,'C':9,'B':-3,'E':-4,'D':-3,'G':-3,'F':-2,'I':-1,'H':-3,'K':-3,'M':-1,'L':-1,'N':-3,'Q':-3,'P':-3,'S':-1,'R':-3,'T':-1,'W':-2,'V':-1,'Y':-2,'X':-1,'Z':-3},\n",
    "    'B':{'*':-4,'A':-2,'C':-3,'B':4,'E':1,'D':4,'G':-1,'F':-3,'I':-3,'H':0,'K':0,'M':-3,'L':-4,'N':3,'Q':0,'P':-2,'S':0,'R':-1,'T':-1,'W':-4,'V':-3,'Y':-3,'X':-1,'Z':1},\n",
    "    'E':{'*':-4,'A':-1,'C':-4,'B':1,'E':5,'D':2,'G':-2,'F':-3,'I':-3,'H':0,'K':1,'M':-2,'L':-3,'N':0,'Q':2,'P':-1,'S':0,'R':0,'T':-1,'W':-3,'V':-2,'Y':-2,'X':-1,'Z':4},\n",
    "    'D':{'*':-4,'A':-2,'C':-3,'B':4,'E':2,'D':6,'G':-1,'F':-3,'I':-3,'H':-1,'K':-1,'M':-3,'L':-4,'N':1,'Q':0,'P':-1,'S':0,'R':-2,'T':-1,'W':-4,'V':-3,'Y':-3,'X':-1,'Z':1},\n",
    "    'G':{'*':-4,'A':0,'C':-3,'B':-1,'E':-2,'D':-1,'G':6,'F':-3,'I':-4,'H':-2,'K':-2,'M':-3,'L':-4,'N':0,'Q':-2,'P':-2,'S':0,'R':-2,'T':-2,'W':-2,'V':-3,'Y':-3,'X':-1,'Z':-2},\n",
    "    'F':{'*':-4,'A':-2,'C':-2,'B':-3,'E':-3,'D':-3,'G':-3,'F':6,'I':0,'H':-1,'K':-3,'M':0,'L':0,'N':-3,'Q':-3,'P':-4,'S':-2,'R':-3,'T':-2,'W':1,'V':-1,'Y':3,'X':-1,'Z':-3},\n",
    "    'I':{'*':-4,'A':-1,'C':-1,'B':-3,'E':-3,'D':-3,'G':-4,'F':0,'I':4,'H':-3,'K':-3,'M':1,'L':2,'N':-3,'Q':-3,'P':-3,'S':-2,'R':-3,'T':-1,'W':-3,'V':3,'Y':-1,'X':-1,'Z':-3},\n",
    "    'H':{'*':-4,'A':-2,'C':-3,'B':0,'E':0,'D':-1,'G':-2,'F':-1,'I':-3,'H':8,'K':-1,'M':-2,'L':-3,'N':1,'Q':0,'P':-2,'S':-1,'R':0,'T':-2,'W':-2,'V':-3,'Y':2,'X':-1,'Z':0},\n",
    "    'K':{'*':-4,'A':-1,'C':-3,'B':0,'E':1,'D':-1,'G':-2,'F':-3,'I':-3,'H':-1,'K':5,'M':-1,'L':-2,'N':0,'Q':1,'P':-1,'S':0,'R':2,'T':-1,'W':-3,'V':-2,'Y':-2,'X':-1,'Z':1},\n",
    "    'M':{'*':-4,'A':-1,'C':-1,'B':-3,'E':-2,'D':-3,'G':-3,'F':0,'I':1,'H':-2,'K':-1,'M':5,'L':2,'N':-2,'Q':0,'P':-2,'S':-1,'R':-1,'T':-1,'W':-1,'V':1,'Y':-1,'X':-1,'Z':-1},\n",
    "    'L':{'*':-4,'A':-1,'C':-1,'B':-4,'E':-3,'D':-4,'G':-4,'F':0,'I':2,'H':-3,'K':-2,'M':2,'L':4,'N':-3,'Q':-2,'P':-3,'S':-2,'R':-2,'T':-1,'W':-2,'V':1,'Y':-1,'X':-1,'Z':-3},\n",
    "    'N':{'*':-4,'A':-2,'C':-3,'B':3,'E':0,'D':1,'G':0,'F':-3,'I':-3,'H':1,'K':0,'M':-2,'L':-3,'N':6,'Q':0,'P':-2,'S':1,'R':0,'T':0,'W':-4,'V':-3,'Y':-2,'X':-1,'Z':0},\n",
    "    'Q':{'*':-4,'A':-1,'C':-3,'B':0,'E':2,'D':0,'G':-2,'F':-3,'I':-3,'H':0,'K':1,'M':0,'L':-2,'N':0,'Q':5,'P':-1,'S':0,'R':1,'T':-1,'W':-2,'V':-2,'Y':-1,'X':-1,'Z':3},\n",
    "    'P':{'*':-4,'A':-1,'C':-3,'B':-2,'E':-1,'D':-1,'G':-2,'F':-4,'I':-3,'H':-2,'K':-1,'M':-2,'L':-3,'N':-2,'Q':-1,'P':7,'S':-1,'R':-2,'T':-1,'W':-4,'V':-2,'Y':-3,'X':-1,'Z':-1},\n",
    "    'S':{'*':-4,'A':1,'C':-1,'B':0,'E':0,'D':0,'G':0,'F':-2,'I':-2,'H':-1,'K':0,'M':-1,'L':-2,'N':1,'Q':0,'P':-1,'S':4,'R':-1,'T':1,'W':-3,'V':-2,'Y':-2,'X':-1,'Z':0},\n",
    "    'R':{'*':-4,'A':-1,'C':-3,'B':-1,'E':0,'D':-2,'G':-2,'F':-3,'I':-3,'H':0,'K':2,'M':-1,'L':-2,'N':0,'Q':1,'P':-2,'S':-1,'R':5,'T':-1,'W':-3,'V':-3,'Y':-2,'X':-1,'Z':0},\n",
    "    'T':{'*':-4,'A':0,'C':-1,'B':-1,'E':-1,'D':-1,'G':-2,'F':-2,'I':-1,'H':-2,'K':-1,'M':-1,'L':-1,'N':0,'Q':-1,'P':-1,'S':1,'R':-1,'T':5,'W':-2,'V':0,'Y':-2,'X':-1,'Z':-1},\n",
    "    'W':{'*':-4,'A':-3,'C':-2,'B':-4,'E':-3,'D':-4,'G':-2,'F':1,'I':-3,'H':-2,'K':-3,'M':-1,'L':-2,'N':-4,'Q':-2,'P':-4,'S':-3,'R':-3,'T':-2,'W':11,'V':-3,'Y':2,'X':-1,'Z':-3},\n",
    "    'V':{'*':-4,'A':0,'C':-1,'B':-3,'E':-2,'D':-3,'G':-3,'F':-1,'I':3,'H':-3,'K':-2,'M':1,'L':1,'N':-3,'Q':-2,'P':-2,'S':-2,'R':-3,'T':0,'W':-3,'V':4,'Y':-1,'X':-1,'Z':-2},\n",
    "    'Y':{'*':-4,'A':-2,'C':-2,'B':-3,'E':-2,'D':-3,'G':-3,'F':3,'I':-1,'H':2,'K':-2,'M':-1,'L':-1,'N':-2,'Q':-1,'P':-3,'S':-2,'R':-2,'T':-2,'W':2,'V':-1,'Y':7,'X':-1,'Z':-2},\n",
    "    'X':{'*':-4,'A':-1,'C':-1,'B':-1,'E':-1,'D':-1,'G':-1,'F':-1,'I':-1,'H':-1,'K':-1,'M':-1,'L':-1,'N':-1,'Q':-1,'P':-1,'S':-1,'R':-1,'T':-1,'W':-1,'V':-1,'Y':-1,'X':-1,'Z':-1},\n",
    "    'Z':{'*':-4,'A':-1,'C':-3,'B':1,'E':4,'D':1,'G':-2,'F':-3,'I':-3,'H':0,'K':1,'M':-1,'L':-3,'N':0,'Q':3,'P':-1,'S':0,'R':0,'T':-1,'W':-3,'V':-2,'Y':-2,'X':-1,'Z':4}}"
   ]
  },
  {
   "cell_type": "markdown",
   "metadata": {
    "deletable": false,
    "editable": false,
    "nbgrader": {
     "cell_type": "markdown",
     "checksum": "8b952f7989b853e6e33c7c428783e97c",
     "grade": false,
     "grade_id": "cell-45278df4fd8f81a8",
     "locked": true,
     "schema_version": 3,
     "solution": false,
     "task": false
    }
   },
   "source": [
    "### Questions\n",
    "In the cells below, complete the following tasks:"
   ]
  },
  {
   "cell_type": "markdown",
   "metadata": {
    "deletable": false,
    "editable": false,
    "nbgrader": {
     "cell_type": "markdown",
     "checksum": "0900397e314707a8d0325bbb9d5b1128",
     "grade": false,
     "grade_id": "Q-2-1-info",
     "locked": true,
     "schema_version": 3,
     "solution": false,
     "task": false
    }
   },
   "source": [
    "<div class=\"info\">\n",
    "<h3> Question 2.1 </h3>\n",
    "\n",
    "(10 marks)\n",
    "\n",
    "<b>Challenge:</b> Write a Python function to calculate the percentage sequence similarity between two aligned protein sequences. The percentage similarity is defined as the number of positions with similar amino acid residues as a percentage of the total number of positions in the alignment. \n",
    "    \n",
    "Two amino acid residues are considered similar based on the input substitution matrix. If two amino acids have a value greater than 0 in their corresponding cell of the input matrix, they are similar. \n",
    "\n",
    "- [ ] Input: \n",
    "    - Pairwise_aln as a `Bio.Align.MultipleSeqAlignment` object that contains only two aligned sequences.\n",
    "    - sub_matrix as a 2D dictionary encoding an amino-acid substitution matrix, such as the BLOSUM-62 matrix above.\n",
    "- [ ] Output:\n",
    "    - Return a floating-point number between 0 and 100. \n",
    "    - Round the output to 4 decimal places.\n",
    "    - If pairwise_aln does not contain 2 sequences, return None.\n",
    "\n",
    "</div>"
   ]
  },
  {
   "cell_type": "code",
   "execution_count": 10,
   "metadata": {
    "deletable": false,
    "nbgrader": {
     "cell_type": "code",
     "checksum": "8ec2e41bd2f981e7814258a753fdd7bd",
     "grade": false,
     "grade_id": "Q-2-1",
     "locked": false,
     "schema_version": 3,
     "solution": true,
     "task": false
    }
   },
   "outputs": [],
   "source": [
    "# GRADED CELL 2.1 (10 marks, max 1 min run-time)\n",
    "\n",
    "def percentage_similarity(pairwise_aln, sub_matrix):\n",
    "    \"\"\"\n",
    "    Calculate the percentage sequence similarity between two aligned protein sequences. \n",
    "    Assume that pairwise_aln is an Bio.Align.MultipleSeqAlignment object. \n",
    "    Assume sub_matrix is a 2D dictionary encoding an amino-acid substitution matrix. \n",
    "    Two amino acid residues are similar if there is a value greater than 0 in the corresponding cell of sub_matrix. \n",
    "    The percentage similarity is defined as the number of positions with similar amino acid residues as a percentage of the total number of positions in the alignment.\n",
    "    Return a floating point number between 0 and 100.\n",
    "    Round the output to 4 decimal places.\n",
    "    If pairwise_aln does not contain 2 sequences, return None.\n",
    "    \"\"\"\n",
    "   \n",
    "    # YOUR CODE HERE\n",
    "    # Edge case\n",
    "    if len(pairwise_aln) != 2:\n",
    "        return None\n",
    "\n",
    "    seq1, seq2 = pairwise_aln[0], pairwise_aln[1]\n",
    "    # check both seq1 and seq2 are SeqRecord objects\n",
    "    similar_loc = 0.0 # float\n",
    "    seq_length = len(seq1)\n",
    "    for aa1, aa2 in zip(seq1, seq2):\n",
    "        # Skip gaps\n",
    "        if aa1 == '-' or aa2 == '-':\n",
    "            continue\n",
    "        if sub_matrix[aa1][aa2] > 0:\n",
    "            similar_loc += 1 \n",
    "        \n",
    "    \n",
    "    percentage = (similar_loc / seq_length) * 100\n",
    "    return round(percentage,4)\n",
    "        "
   ]
  },
  {
   "cell_type": "code",
   "execution_count": 11,
   "metadata": {},
   "outputs": [
    {
     "name": "stdout",
     "output_type": "stream",
     "text": [
      "60.0\n",
      "81.8182\n"
     ]
    }
   ],
   "source": [
    "# ~~ Test your function in this cell ~~\n",
    "demo_sequence_a = SeqRecord.SeqRecord(Seq.Seq(\"MYWIW\"))\n",
    "demo_sequence_b = SeqRecord.SeqRecord(Seq.Seq(\"IYW--\"))\n",
    "demo_pairwise_prot_aln = Align.MultipleSeqAlignment([demo_sequence_a, demo_sequence_b])\n",
    "\n",
    "sequence_a = SeqRecord.SeqRecord(Seq.Seq(\"MYGEGEPGGWQDHVTVLATRRHPKWAQAWVSTMPWGYECGFSRAWVHQTPWINV-----VSLSSHEAYGVVAVRHPWEIFSPYEVYAPYVQDTQHHGNPGQFTTSCYPDE\"))\n",
    "sequence_b = SeqRecord.SeqRecord(Seq.Seq(\"MYADGEPGAWQDHMTVLAIYWHHKWAHAWVSTMPWSYECGFSRAWVHQTPWINVIRFTQVSLSSRAWYGILAVRHPWEIFSPYDVYAPYVAATQHHGNPGQFSTSCYP--\"))\n",
    "pairwise_prot_aln = Align.MultipleSeqAlignment([sequence_a, sequence_b])\n",
    "\n",
    "print(percentage_similarity(demo_pairwise_prot_aln, BLOSUM_62)) # should return 60.0\n",
    "\n",
    "print(percentage_similarity(pairwise_prot_aln, BLOSUM_62))"
   ]
  },
  {
   "cell_type": "code",
   "execution_count": 12,
   "metadata": {},
   "outputs": [
    {
     "name": "stdout",
     "output_type": "stream",
     "text": [
      "M I\n",
      "Y Y\n",
      "W W\n",
      "I -\n",
      "W -\n"
     ]
    }
   ],
   "source": [
    "seq1 = demo_sequence_a\n",
    "seq2 = demo_sequence_b\n",
    "for aa1,aa2 in zip(seq1, seq2):\n",
    "    print(aa1,aa2)"
   ]
  },
  {
   "cell_type": "code",
   "execution_count": 13,
   "metadata": {
    "deletable": false,
    "editable": false,
    "nbgrader": {
     "cell_type": "code",
     "checksum": "ff41d51443599f1c72f3263b8c25ffa4",
     "grade": true,
     "grade_id": "T-2-1a",
     "locked": true,
     "points": 10,
     "schema_version": 3,
     "solution": false,
     "task": false
    }
   },
   "outputs": [],
   "source": [
    "# --- AUTOGRADING CELL DO NOT EDIT ----\n",
    "import math"
   ]
  },
  {
   "cell_type": "markdown",
   "metadata": {
    "deletable": false,
    "editable": false,
    "nbgrader": {
     "cell_type": "markdown",
     "checksum": "ef57ba73649d223cc4fa9ae1ee10fef5",
     "grade": false,
     "grade_id": "Q-2-2-info",
     "locked": true,
     "schema_version": 3,
     "solution": false,
     "task": false
    }
   },
   "source": [
    "<div class=\"info\">\n",
    "<h3> Question 2.2 </h3>\n",
    "\n",
    "(10 marks)\n",
    "\n",
    "<b>Challenge:</b> A new scoring system for pairwise protein sequence alignments has been proposed. The score for an alignment is the sum of the scores at each position in the alignment. The score from a match or a mismatch is taken from a given substitution matrix. Gaps are penalised with a gap open and a gap extend penalty. Terminal gaps are treated the same as internal gaps.\n",
    " \n",
    "Write a Python function to compute this score from a pairwise protein alignment. \n",
    "- [ ] Input: \n",
    "    - Assume that pairwise_aln is an `Bio.Align.MultipleSeqAlignment` object. \n",
    "    - Assume sub_matrix is a 2D dictionary encoding an amino-acid substitution matrix. \n",
    "    - Assume gap_open and gap_extend are **negative** integers. \n",
    "- [ ] Output:\n",
    "    - Return the score as an integer. \n",
    "    - If pairwise_aln does not contain 2 sequences, return None.\n",
    "\n",
    "</div>\n"
   ]
  },
  {
   "cell_type": "code",
   "execution_count": 14,
   "metadata": {
    "deletable": false,
    "nbgrader": {
     "cell_type": "code",
     "checksum": "706ccfde015585608e355866f48245bb",
     "grade": false,
     "grade_id": "Q-2-2",
     "locked": false,
     "schema_version": 3,
     "solution": true,
     "task": false
    }
   },
   "outputs": [],
   "source": [
    "# GRADED CELL 2.2 (10 marks, max 1 min run-time)\n",
    "\n",
    "def alignment_score(pairwise_aln, sub_matrix, gap_open, gap_extend):\n",
    "    \"\"\"\n",
    "    Compute the alignment score described above from a pairwise protein alignment. \n",
    "    Assume that pairwise_aln is an Bio.Align.MultipleSeqAlignment object. \n",
    "    Assume sub_matrix is a 2D dictionary encoding an amino-acid substitution matrix. \n",
    "    Assume gap_open and gap_extend are negative integers.\n",
    "    Terminal gaps are treated the same as internal gaps.\n",
    "    Return the score as an integer. \n",
    "    If pairwise_aln does not contain 2 sequences, return None.\n",
    "    \"\"\"\n",
    "   \n",
    "    # YOUR CODE HERE\n",
    "    # Edge case\n",
    "    if len(pairwise_aln) != 2:\n",
    "        return None\n",
    "\n",
    "    seq1, seq2 = pairwise_aln[0], pairwise_aln[1]\n",
    "    score = 0 # int\n",
    "    # Whether currently in a gap of either sequences\n",
    "    seq1_in_gap = False\n",
    "    seq2_in_gap = False\n",
    "\n",
    "    for aa1, aa2 in zip(seq1, seq2):\n",
    "        # there are four cases in total\n",
    "        # gap in seq1\n",
    "        if aa1 == '-' and aa2 != '-':\n",
    "            if not seq1_in_gap:\n",
    "                score += gap_open \n",
    "                seq1_in_gap = True\n",
    "            else:\n",
    "                score += gap_extend\n",
    "\n",
    "        # gap in seq2\n",
    "        elif aa1 != '-' and aa2 == '-':\n",
    "            if not seq2_in_gap:\n",
    "                score += gap_open\n",
    "                seq2_in_gap =True\n",
    "            else:\n",
    "                score += gap_extend\n",
    "\n",
    "        # both gaps\n",
    "        elif aa1 == '-' and aa2 == '-':\n",
    "            print(f'According to Question 2.3, aligned-gap positions weigh 0. Such positions have been skipped.')\n",
    "            continue\n",
    "\n",
    "        # match/mismatch\n",
    "        elif aa1 != '-' and aa2 != '-':\n",
    "            score += sub_matrix[aa1][aa2]\n",
    "            seq1_in_gap = False\n",
    "            seq2_in_gap = False\n",
    "\n",
    "    return int(score)\n",
    "            \n"
   ]
  },
  {
   "cell_type": "code",
   "execution_count": 15,
   "metadata": {},
   "outputs": [
    {
     "name": "stdout",
     "output_type": "stream",
     "text": [
      "4\n",
      "461\n"
     ]
    }
   ],
   "source": [
    "# ~~ Test your function in this cell ~~\n",
    "print(alignment_score(demo_pairwise_prot_aln, BLOSUM_62, -12, -3)) # should return 4\n",
    "\n",
    "print(alignment_score(pairwise_prot_aln, BLOSUM_62, -12, -3))"
   ]
  },
  {
   "cell_type": "code",
   "execution_count": 16,
   "metadata": {
    "deletable": false,
    "editable": false,
    "nbgrader": {
     "cell_type": "code",
     "checksum": "19214b9717049c0b339d812849d742c9",
     "grade": true,
     "grade_id": "T-2-2a",
     "locked": true,
     "points": 4,
     "schema_version": 3,
     "solution": false,
     "task": false
    }
   },
   "outputs": [],
   "source": [
    "# --- AUTOGRADING CELL DO NOT EDIT ----\n",
    "\n"
   ]
  },
  {
   "cell_type": "code",
   "execution_count": 17,
   "metadata": {
    "deletable": false,
    "editable": false,
    "nbgrader": {
     "cell_type": "code",
     "checksum": "449582f9c97c43e212090a3d31cbf3a0",
     "grade": true,
     "grade_id": "T-2-2b",
     "locked": true,
     "points": 4,
     "schema_version": 3,
     "solution": false,
     "task": false
    }
   },
   "outputs": [],
   "source": [
    "# --- AUTOGRADING CELL DO NOT EDIT ----\n",
    "\n"
   ]
  },
  {
   "cell_type": "code",
   "execution_count": 18,
   "metadata": {
    "deletable": false,
    "editable": false,
    "nbgrader": {
     "cell_type": "code",
     "checksum": "a0a24efcb5755fcdcb8ea2f0b2910c9d",
     "grade": true,
     "grade_id": "T-2-2c",
     "locked": true,
     "points": 2,
     "schema_version": 3,
     "solution": false,
     "task": false
    }
   },
   "outputs": [],
   "source": [
    "# --- AUTOGRADING CELL DO NOT EDIT ----\n"
   ]
  },
  {
   "cell_type": "markdown",
   "metadata": {
    "deletable": false,
    "editable": false,
    "nbgrader": {
     "cell_type": "markdown",
     "checksum": "41bd2558d34498f69029e2201d9cd5ab",
     "grade": false,
     "grade_id": "Q-2-3-info",
     "locked": true,
     "schema_version": 3,
     "solution": false,
     "task": false
    }
   },
   "source": [
    "<div class=\"info\">\n",
    "<h3> Question 2.3 </h3>\n",
    "\n",
    "(10 marks)\n",
    "\n",
    "The sum-of-pairs score considers all pairs of characters at each position in an alignment and sums the scores of every pair. For each pair of characters, please score according to the following scoring system:\n",
    " \n",
    "- Match (A|A) = 0\n",
    "- Mismatch (A|T or A|-) = 1\n",
    "- Aligned gaps (-|-) = 0\n",
    " \n",
    "<b>Challenge:</b> The higher the score, the more variability at that position. The most variable region is defined as the continuous region of length reg_len with the highest sum-of-pairs score across all positions in the region. \n",
    "\n",
    "Write a Python function to identify the most variable region in a multiple sequence alignment. \n",
    "- [ ] Input:\n",
    "    - Assume msa is an `Bio.Align.MultipleSeqAlignment` object. \n",
    "    - msa could contain DNA, RNA or protein sequences. \n",
    "    - Assume reg_len is a positive integer. \n",
    "- [ ] Treat gaps the same as other characters. \n",
    "- [ ] Output:  \n",
    "    - Return a tuple containing the zero-based indices of the first and last position of the most variable region of length reg_len in the MSA. \n",
    "    - If there is a tie, return the indices of the region that occurs first in the MSA. \n",
    "    - If msa contains fewer than 3 sequences, return None. \n",
    "    - If reg_len is greater than the alignment length, return None.\n",
    "\n",
    "</div>"
   ]
  },
  {
   "cell_type": "code",
   "execution_count": 19,
   "metadata": {
    "deletable": false,
    "nbgrader": {
     "cell_type": "code",
     "checksum": "bf232bcab47eebd25df52c30a62b5a8f",
     "grade": false,
     "grade_id": "Q-2-3",
     "locked": false,
     "schema_version": 3,
     "solution": true,
     "task": false
    }
   },
   "outputs": [],
   "source": [
    "# GRADED CELL 2.3 (10 marks, max 1 min run-time)\n",
    "\n",
    "def variable_region(msa, reg_len):\n",
    "    \"\"\"\n",
    "    Identify the most variable region in a multiple sequence alignment. \n",
    "    The most variable region is defined as the continuous region of length reg_len with the highest sum-of-pairs score across all positions in the region. \n",
    "    Treat gaps the same as other characters. \n",
    "    Assume msa is an Bio.Align.MultipleSeqAlignment object. \n",
    "    Assume reg_len is a positive integer. \n",
    "    Return a tuple containing the zero-based indices of the first and last position of the most variable region of length reg_len in the MSA. \n",
    "    msa could contain DNA, RNA or protein sequences. \n",
    "    If there is a tie, return the indices of the region that occurs first in the MSA. \n",
    "    If msa contains fewer than 3 sequences, return None. \n",
    "    If reg_len is greater than the alignment length, return None.\n",
    "    \"\"\"\n",
    "   \n",
    "    # YOUR CODE HERE\n",
    "    num_seqs = len(demo_msa_rna)\n",
    "    alignment_length = msa.get_alignment_length() # or seq_len = len(msa[0])\n",
    "\n",
    "    # Edge cases\n",
    "    if num_seqs < 3 or reg_len > alignment_length:\n",
    "        return None\n",
    "\n",
    "    column_scores = []\n",
    "    for pos in range(alignment_length):\n",
    "        window = [record[pos] for record in msa] # Column window\n",
    "        col_score = 0.0\n",
    "        for i in range(num_seqs):\n",
    "            for j in range(i + 1, num_seqs):\n",
    "                aa1 = window[i]\n",
    "                aa2 = window[j]\n",
    "                if (aa1 == '-' and aa2 == '-') or aa1 == aa2:\n",
    "                    col_score += 0\n",
    "                else:\n",
    "                    col_score +=1\n",
    "\n",
    "        column_scores.append(col_score)\n",
    "\n",
    "    # Find the best windows of reg_len with the highest score\n",
    "    max_score = -1\n",
    "    max_start = 0\n",
    "    for start in range(0, alignment_length - reg_len + 1):\n",
    "        window_score = sum(column_scores[start:start+reg_len])\n",
    "        # Update if we get a bigger window score\n",
    "        if window_score > max_score:\n",
    "            max_score = window_score\n",
    "            max_start = start\n",
    "\n",
    "    return (max_start, max_start + reg_len -1)\n",
    "        \n",
    "    "
   ]
  },
  {
   "cell_type": "code",
   "execution_count": 20,
   "metadata": {},
   "outputs": [
    {
     "name": "stdout",
     "output_type": "stream",
     "text": [
      "(0, 1)\n",
      "(2, 11)\n"
     ]
    }
   ],
   "source": [
    "# ~~ Test your function in this cell ~~\n",
    "demo_sequence_c = SeqRecord.SeqRecord(Seq.Seq(\"CACGAG\"))\n",
    "demo_sequence_d = SeqRecord.SeqRecord(Seq.Seq(\"GCCGAG\"))\n",
    "demo_sequence_e = SeqRecord.SeqRecord(Seq.Seq(\"CGCG-G\"))\n",
    "demo_msa_rna = Align.MultipleSeqAlignment([demo_sequence_c, demo_sequence_d, demo_sequence_e])\n",
    "\n",
    "sequence_c = SeqRecord.SeqRecord(Seq.Seq(\"AACCCCAUGGUGAAAGCAAUCACAAUGACAUGGUAACCAGGGCUUCUUUUCUUAUUGGACCGCUACGCGUUUUAAGUGAUUAUUUUUAGAGCACUCUGGUAGAACUCUUC\"))\n",
    "sequence_d = SeqRecord.SeqRecord(Seq.Seq(\"AACCCC------AAAGCAAUCACAAUGACAUGGUUACCAGUGCUUCUUUUCUUAUUGGAGCGCUACGCGCCUUAAGUGAUUAUUUAAAGAGCACUCUGGUAGAACUCU--\"))\n",
    "sequence_e = SeqRecord.SeqRecord(Seq.Seq(\"AAGCCCAUGGUGAAAGCAAUCACAAUGACUAGGUAACCAGUGCUUCUUUUCUUAAUGGAU-GCUACGCGUUUUAAGUGAUUAUUUAGAGAGCACUCUGGUAGAACUCU--\"))\n",
    "msa_rna = Align.MultipleSeqAlignment([sequence_c, sequence_d, sequence_e])\n",
    "\n",
    "print(variable_region(demo_msa_rna, 2)) # should return (0,1)\n",
    "\n",
    "print(variable_region(msa_rna, 10))"
   ]
  },
  {
   "cell_type": "code",
   "execution_count": 21,
   "metadata": {
    "deletable": false,
    "editable": false,
    "nbgrader": {
     "cell_type": "code",
     "checksum": "26e2907fd6d5cb83539ff591e3de59b8",
     "grade": true,
     "grade_id": "T-2-3a",
     "locked": true,
     "points": 5,
     "schema_version": 3,
     "solution": false,
     "task": false
    }
   },
   "outputs": [],
   "source": [
    "# --- AUTOGRADING CELL DO NOT EDIT ----\n"
   ]
  },
  {
   "cell_type": "code",
   "execution_count": 22,
   "metadata": {
    "deletable": false,
    "editable": false,
    "nbgrader": {
     "cell_type": "code",
     "checksum": "28446cd4c2cc1ecff8f83be916ee50c2",
     "grade": true,
     "grade_id": "T-2-3b",
     "locked": true,
     "points": 3,
     "schema_version": 3,
     "solution": false,
     "task": false
    }
   },
   "outputs": [],
   "source": [
    "# --- AUTOGRADING CELL DO NOT EDIT ----\n"
   ]
  },
  {
   "cell_type": "code",
   "execution_count": 23,
   "metadata": {
    "deletable": false,
    "editable": false,
    "nbgrader": {
     "cell_type": "code",
     "checksum": "8834e358b2d9f6f8d2d6fc8c56e65467",
     "grade": true,
     "grade_id": "T-2-3c",
     "locked": true,
     "points": 2,
     "schema_version": 3,
     "solution": false,
     "task": false
    }
   },
   "outputs": [],
   "source": [
    "# --- AUTOGRADING CELL DO NOT EDIT ----\n"
   ]
  },
  {
   "cell_type": "markdown",
   "metadata": {
    "deletable": false,
    "editable": false,
    "nbgrader": {
     "cell_type": "markdown",
     "checksum": "a1b6f7f1b61c28213a0374a4af8b07e7",
     "grade": false,
     "grade_id": "Q-2-4",
     "locked": true,
     "points": 5,
     "schema_version": 3,
     "solution": false,
     "task": true
    }
   },
   "source": [
    "<div class=\"question\">\n",
    "\n",
    "<h3> Question 2.4 </h3>\n",
    "\n",
    "(5 marks, max 100 words)\n",
    "\n",
    "Use the [online EMBL-EBI implementation of the MUSCLE MSA algorithm](https://www.ebi.ac.uk/jdispatcher/msa/muscle?stype=protein) to align the sequences found in `blastdb/comp90016_assignment_2_database.fasta`. View the results in the 'Alignments' tab.\n",
    "\n",
    "Describe the distribution of the regions of similarity across the length of the alignment. Explain how the distribution of regions of similarity can be biologically relevant.\n",
    "    \n",
    "</div>\n",
    "\n"
   ]
  },
  {
   "cell_type": "markdown",
   "metadata": {},
   "source": [
    "#### -- GRADED CELL (5 marks) - complete this cell --\n",
    "\n",
    "**The alignment shows regions of high similarity scattered across the entire sequence length, but notably more conserved domains appear in the central and terminal regions. These conserved blocks indicate functionally or structurally important regions of the histamine receptor proteins. Biologically, such conserved regions may represent transmembrane domains or ligand-binding sites essential for receptor activity. Variable regions suggest evolutionary divergence allowing species-specific adaptations while maintaining core functionality.**"
   ]
  },
  {
   "cell_type": "markdown",
   "metadata": {
    "deletable": false,
    "editable": false,
    "nbgrader": {
     "cell_type": "markdown",
     "checksum": "0b3c17eeff44cc0d3fa86604ae1b20d4",
     "grade": false,
     "grade_id": "cell-3b92b603957fa0ab",
     "locked": true,
     "schema_version": 3,
     "solution": false,
     "task": false
    }
   },
   "source": [
    "## Part 3: Read alignment"
   ]
  },
  {
   "cell_type": "markdown",
   "metadata": {
    "deletable": false,
    "editable": false,
    "nbgrader": {
     "cell_type": "markdown",
     "checksum": "f3e82a269b7a39e28541a3c8ab644f47",
     "grade": false,
     "grade_id": "cell-5b5bfcde7169cdf2",
     "locked": true,
     "schema_version": 3,
     "solution": false,
     "task": false
    }
   },
   "source": [
    "### Setup"
   ]
  },
  {
   "cell_type": "markdown",
   "metadata": {
    "deletable": false,
    "editable": false,
    "nbgrader": {
     "cell_type": "markdown",
     "checksum": "82f51ffdce0fc15d76eed20e1471798b",
     "grade": false,
     "grade_id": "cell-ce97d3c79c7d25e9",
     "locked": true,
     "schema_version": 3,
     "solution": false,
     "task": false
    }
   },
   "source": [
    "We begin by importing `pysam` so that we can use it to explore read alignments."
   ]
  },
  {
   "cell_type": "code",
   "execution_count": 4,
   "metadata": {
    "deletable": false,
    "editable": false,
    "nbgrader": {
     "cell_type": "code",
     "checksum": "41621fc92254c0e49cec16ede49efe7c",
     "grade": false,
     "grade_id": "cell-d9be56a9b0c81404",
     "locked": true,
     "schema_version": 3,
     "solution": false,
     "task": false
    }
   },
   "outputs": [],
   "source": [
    "import pysam"
   ]
  },
  {
   "cell_type": "markdown",
   "metadata": {
    "deletable": false,
    "editable": false,
    "nbgrader": {
     "cell_type": "markdown",
     "checksum": "ec9264d37c52c778bf5c555c911b2a86",
     "grade": false,
     "grade_id": "cell-c771806902cdf0c5",
     "locked": true,
     "schema_version": 3,
     "solution": false,
     "task": false
    }
   },
   "source": [
    "**comp90016_assignment_2_S_harrisii_y.fasta** is a FASTA file containing the reference sequence for the Y chromosome of the Tasmanian Devil (*Sarcophilus harrisii*).\n",
    "\n",
    "**comp90016_assignment_2_reads_R1.fastq.gz** and **comp90016_assignment_2_reads_R2.fastq.gz** are compressed FASTQ files containing short reads."
   ]
  },
  {
   "cell_type": "markdown",
   "metadata": {
    "deletable": false,
    "editable": false,
    "nbgrader": {
     "cell_type": "markdown",
     "checksum": "bf189b49b602ad8fc430b42c47701cb8",
     "grade": false,
     "grade_id": "cell-99ddabe2d88cd0c7",
     "locked": true,
     "schema_version": 3,
     "solution": false,
     "task": false
    }
   },
   "source": [
    "We will be using the command-line tools `BWA` and `SAMtools` to align the reads to the reference genome and perform some processing.\n",
    "\n",
    "If you would like to use your personal computer, you can download them using the following links: [BWA installation](https://github.com/lh3/bwa), [SAMtools installation](http://www.htslib.org/download/).\n",
    "\n",
    "Or install via bioconda: [BWA](https://anaconda.org/bioconda/bwa) and [samtools](https://anaconda.org/bioconda/samtools).\n",
    "\n",
    "These tools are pre-installed on the subject Binder.\n",
    "\n",
    "Execute the following code block."
   ]
  },
  {
   "cell_type": "code",
   "execution_count": 5,
   "metadata": {
    "deletable": false,
    "editable": false,
    "nbgrader": {
     "cell_type": "code",
     "checksum": "a0c1cb182c57eb97ad627bad4b2d10bc",
     "grade": false,
     "grade_id": "cell-28a4ccd43c35b161",
     "locked": true,
     "schema_version": 3,
     "solution": false,
     "task": false
    }
   },
   "outputs": [
    {
     "name": "stderr",
     "output_type": "stream",
     "text": [
      "[bwa_index] Pack FASTA... 0.00 sec\n",
      "[bwa_index] Construct BWT for the packed sequence...\n",
      "[bwa_index] 0.03 seconds elapse.\n",
      "0.00 secex] Update BWT... \n",
      "0.00 secex] Pack forward-only FASTA... \n",
      "0.01 secex] Construct SA from BWT and Occ... \n",
      "[main] Version: 0.7.19-r1273\n",
      "0016_assignment_2_S_harrisii_y.fasta/S_harrissi_y ./data/comp9\n",
      "[main] Real time: 0.061 sec; CPU: 0.051 sec\n",
      "[M::bwa_idx_load_from_disk] read 0 ALT contigs\n",
      "[M::process] read 8638 sequences (1295700 bp)...\n",
      "[M::mem_pestat] # candidate unique pairs for (FF, FR, RF, RR): (0, 4307, 0, 0)\n",
      "orientation FF as there are not enough pairs\n",
      "orientation FR...nalyzing insert size distribution for \n",
      "[M::mem_pestat] (25, 50, 75) percentile: (492, 499, 506)\n",
      " computing mean and std.dev: (464, 534) for\n",
      "[M::mem_pestat] mean and std.dev: (498.86, 10.00)\n",
      "stat] low and high boundaries for proper pairs: (450, 548)\n",
      "ere are not enough pairsentation RF as th\n",
      "[M::mem_pestat] skip orientation RR as there are not enough pairs\n",
      "[M::mem_process_seqs] Processed 8638 reads in 0.229 CPU sec, 0.248 real sec\n",
      "[main] Version: 0.7.19-r1273\n",
      "1.fastq.gz ../data/comp90016_assignment_2_reads_R2.fastq.gznt_2_reads_R\n",
      "secin] Real time: 0.299 sec; CPU: 0.278 \n"
     ]
    }
   ],
   "source": [
    "%%bash\n",
    "# create a working directory to perform the alignment in\n",
    "mkdir -p align\n",
    "\n",
    "# Index the reference sequence into the align directory.\n",
    "bwa index -a is ./data/comp90016_assignment_2_S_harrisii_y.fasta -p align/S_harrissi_y\n",
    "\n",
    "# change to the align directory\n",
    "cd align\n",
    "\n",
    "# Align the reads to the reference\n",
    "bwa mem S_harrissi_y ../data/comp90016_assignment_2_reads_R1.fastq.gz ../data/comp90016_assignment_2_reads_R2.fastq.gz > alignment.sam\n",
    "\n",
    "# Sort the aligned reads and convert to BAM.\n",
    "samtools sort alignment.sam > alignment.bam\n",
    "\n",
    "# Index the BAM file.\n",
    "samtools index alignment.bam > alignment.bam.bai"
   ]
  },
  {
   "cell_type": "markdown",
   "metadata": {
    "deletable": false,
    "editable": false,
    "nbgrader": {
     "cell_type": "markdown",
     "checksum": "c35f8800262b90a30ef59069ad361d6e",
     "grade": false,
     "grade_id": "cell-45278df4fd8f81a7",
     "locked": true,
     "schema_version": 3,
     "solution": false,
     "task": false
    }
   },
   "source": [
    "### Questions\n",
    "In the cells below, complete the following tasks:"
   ]
  },
  {
   "cell_type": "markdown",
   "metadata": {
    "deletable": false,
    "editable": false,
    "nbgrader": {
     "cell_type": "markdown",
     "checksum": "4e2afa800317ac330359be11277cb236",
     "grade": false,
     "grade_id": "Q-3-1",
     "locked": true,
     "points": 5,
     "schema_version": 3,
     "solution": false,
     "task": true
    }
   },
   "source": [
    "<div class=\"question\">\n",
    "\n",
    "<h3> Question 3.1 </h3>\n",
    "\n",
    "(5 marks, max 50 words)\n",
    "\n",
    "A colleague suggests that instead, you should use the following line of code for the alignment, sorting and compression.\n",
    "    \n",
    "Note: There is no need to execute this code.\n",
    "\n",
    "`bwa mem comp90016_assignment_3_S_harrisii_y.fasta comp90016_assignment_3_reads_R1.fastq.gz comp90016_assignment_3_reads_R2.fastq.gz | samtools sort > alignment.bam`\n",
    "\n",
    "Explain the difference between these commands and the commands you used previously. Is this a better approach?\n",
    "    \n",
    "</div>\n",
    "\n"
   ]
  },
  {
   "cell_type": "markdown",
   "metadata": {},
   "source": [
    "#### -- GRADED CELL (5 marks) - complete this cell --\n",
    "\n",
    "Colleagues' code\n",
    "  - Uses a difference reference file rather than BWA-indexed file, less computationally efficient.\n",
    "  - Uses pipe to stream alignment results directly to \"samtool sort\" without .sam-file, saving disk space, and good for large dataset.\n"
   ]
  },
  {
   "cell_type": "markdown",
   "metadata": {
    "deletable": false,
    "editable": false,
    "nbgrader": {
     "cell_type": "markdown",
     "checksum": "b3863b3aea9488474a11eb9228519743",
     "grade": false,
     "grade_id": "Q-3-2",
     "locked": true,
     "points": 5,
     "schema_version": 3,
     "solution": false,
     "task": true
    }
   },
   "source": [
    "<div class=\"question\">\n",
    "\n",
    "<h3> Question 3.2 </h3>\n",
    "\n",
    "(5 marks, max 50 words)\n",
    "\n",
    "Use SAMtools to determine how many of the input reads were aligned to the reference genome. Give the total number of aligned reads and the percentage of the total reads that were aligned. Include any commands you used in the graded cell.\n",
    "    \n",
    "</div>\n",
    "\n"
   ]
  },
  {
   "cell_type": "markdown",
   "metadata": {},
   "source": [
    "#### -- GRADED CELL (5 marks) - complete this cell --\n",
    "\n",
    "%samtools flagstats ./align/alignment.bam \n",
    "\n",
    "By the outputs, we conclude that there is 8638 reads in total and the percentage of alignment is 99.72%, that is, 8614 reads."
   ]
  },
  {
   "cell_type": "markdown",
   "metadata": {
    "deletable": false,
    "editable": false,
    "nbgrader": {
     "cell_type": "markdown",
     "checksum": "1b1f08a4a7281c4c4057f9ce668887cf",
     "grade": false,
     "grade_id": "Q-3-3",
     "locked": true,
     "points": 10,
     "schema_version": 3,
     "solution": false,
     "task": true
    }
   },
   "source": [
    "<div class=\"question\">\n",
    "\n",
    "<h3> Question 3.3 </h3>\n",
    "\n",
    "(10 marks, max 100 words)\n",
    "    \n",
    "Suggest a reason why there are reads in this readset that did not align to the reference genome. Provide supporting evidence using tools and approaches you have learnt during this subject.\n",
    "    \n",
    "</div>\n",
    "\n"
   ]
  },
  {
   "cell_type": "markdown",
   "metadata": {},
   "source": [
    "#### -- GRADED CELL (10 marks) - complete this cell --\n",
    "\n",
    "Run \n",
    "  - samtools view ./align/alignment.bam | awk '{print $5}' | sort | uniq -c\n",
    "The output is\n",
    "\n",
    "24 0 \n",
    "\n",
    "8614 60\n",
    "\n",
    "There are 24 poorly-mapped reads. It may due to the adapter contamination or **short reads**. Run \n",
    " - samtools view ./data/alignment.bam | awk '$5 == 0 {print length($10)}'\n",
    "   \n",
    "**It can be seen that all reads are of length 150 bp, which can be considered short in certain platforms like illumina.** "
   ]
  },
  {
   "cell_type": "markdown",
   "metadata": {
    "deletable": false,
    "editable": false,
    "nbgrader": {
     "cell_type": "markdown",
     "checksum": "b80395f79c9e1e0b7f0395c9c1d07ebb",
     "grade": false,
     "grade_id": "cell-569c82a1c890bcb6",
     "locked": true,
     "schema_version": 3,
     "solution": false,
     "task": false
    }
   },
   "source": [
    "\n",
    "### Setup\n",
    "\n",
    "The following code blocks relate to questions 3.4 and 3.5"
   ]
  },
  {
   "cell_type": "code",
   "execution_count": 15,
   "metadata": {
    "deletable": false,
    "editable": false,
    "nbgrader": {
     "cell_type": "code",
     "checksum": "ddc5ce06692aa171c89b281d663f029c",
     "grade": false,
     "grade_id": "cell-de2dddfa934c7204",
     "locked": true,
     "schema_version": 3,
     "solution": false,
     "task": false
    }
   },
   "outputs": [],
   "source": [
    "# Import your bam file into a pysam.AlignmentFile object\n",
    "aln = pysam.AlignmentFile('./align/alignment.bam','rb')"
   ]
  },
  {
   "cell_type": "code",
   "execution_count": 19,
   "metadata": {
    "deletable": false,
    "editable": false,
    "nbgrader": {
     "cell_type": "code",
     "checksum": "870949f0336d5b02360dc1c3dfad5452",
     "grade": false,
     "grade_id": "cell-eaa2a8fa8de791c8",
     "locked": true,
     "schema_version": 3,
     "solution": false,
     "task": false
    }
   },
   "outputs": [
    {
     "name": "stdout",
     "output_type": "stream",
     "text": [
      "s_harrisii_sample-5050\t163\ts_harrisii_sample\t65\t60\t150M\ts_harrisii_sample\t393\t478\tGGGAGGGCTGAGCTAATTTGCTCCCTTCCTACCTTTTTTTGATGGCAAGCCTGATTCATCAATTTTTTTCTTTCTCTGTTTTAGTCAAGTAGGCCTCTAGAGAGGGGAACATCCCACACCCCTTGGTATGTCGTCTCATGATTGTCATTC\tarray('B', [34, 34, 34, 38, 38, 38, 38, 38, 38, 38, 38, 38, 16, 38, 41, 41, 38, 38, 38, 38, 41, 38, 38, 41, 41, 41, 41, 41, 38, 41, 38, 38, 16, 38, 38, 7, 41, 41, 38, 41, 41, 38, 38, 38, 41, 38, 41, 38, 38, 41, 38, 41, 38, 38, 41, 34, 34, 38, 41, 38, 41, 41, 41, 38, 38, 38, 38, 34, 34, 34, 41, 41, 38, 41, 38, 38, 34, 38, 34, 38, 34, 34, 38, 38, 38, 38, 38, 38, 16, 34, 38, 38, 38, 34, 38, 38, 34, 34, 38, 16, 34, 38, 41, 41, 41, 34, 41, 38, 38, 23, 38, 38, 28, 38, 23, 34, 38, 38, 28, 28, 38, 28, 34, 34, 23, 38, 34, 34, 38, 34, 38, 38, 34, 38, 34, 34, 34, 38, 34, 34, 23, 16, 38, 38, 34, 38, 34, 38, 38, 38])\t[('NM', 0), ('MD', '150'), ('MC', '150M'), ('MQ', 60), ('AS', 150), ('XS', 0)]\n"
     ]
    }
   ],
   "source": [
    "# You can use fetch() to access individual aligned reads. For example:\n",
    "for read in aln.fetch('s_harrisii_sample', 64, 65):\n",
    "     print(read)"
   ]
  },
  {
   "cell_type": "code",
   "execution_count": 20,
   "metadata": {
    "deletable": false,
    "editable": false,
    "nbgrader": {
     "cell_type": "code",
     "checksum": "954a351e2f3cef892951acf52d321048",
     "grade": false,
     "grade_id": "cell-4c64423e628bbf45",
     "locked": true,
     "schema_version": 3,
     "solution": false,
     "task": false
    }
   },
   "outputs": [
    {
     "name": "stdout",
     "output_type": "stream",
     "text": [
      "Reference:  64\n",
      "Read:  0\n",
      "Reference:  65\n",
      "Read:  1\n",
      "Reference:  66\n",
      "Read:  2\n",
      "Reference:  67\n",
      "Read:  3\n",
      "Reference:  68\n",
      "Read:  4\n",
      "Reference:  69\n",
      "Read:  5\n",
      "Reference:  70\n",
      "Read:  6\n",
      "Reference:  71\n",
      "Read:  7\n",
      "Reference:  72\n",
      "Read:  8\n",
      "Reference:  73\n",
      "Read:  9\n",
      "Reference:  74\n",
      "Read:  10\n",
      "Reference:  75\n",
      "Read:  11\n",
      "Reference:  76\n",
      "Read:  12\n",
      "Reference:  77\n",
      "Read:  13\n",
      "Reference:  78\n",
      "Read:  14\n",
      "Reference:  79\n",
      "Read:  15\n",
      "Reference:  80\n",
      "Read:  16\n",
      "Reference:  81\n",
      "Read:  17\n",
      "Reference:  82\n",
      "Read:  18\n",
      "Reference:  83\n",
      "Read:  19\n",
      "Reference:  84\n",
      "Read:  20\n",
      "Reference:  85\n",
      "Read:  21\n",
      "Reference:  86\n",
      "Read:  22\n",
      "Reference:  87\n",
      "Read:  23\n",
      "Reference:  88\n",
      "Read:  24\n",
      "Reference:  89\n",
      "Read:  25\n",
      "Reference:  90\n",
      "Read:  26\n",
      "Reference:  91\n",
      "Read:  27\n",
      "Reference:  92\n",
      "Read:  28\n",
      "Reference:  93\n",
      "Read:  29\n",
      "Reference:  94\n",
      "Read:  30\n",
      "Reference:  95\n",
      "Read:  31\n",
      "Reference:  96\n",
      "Read:  32\n",
      "Reference:  97\n",
      "Read:  33\n",
      "Reference:  98\n",
      "Read:  34\n",
      "Reference:  99\n",
      "Reference:  100\n",
      "Read:  36\n",
      "Reference:  101\n",
      "Read:  37\n",
      "Reference:  102\n",
      "Read:  38\n",
      "Reference:  103\n",
      "Read:  39\n",
      "Reference:  104\n",
      "Read:  40\n",
      "Reference:  105\n",
      "Read:  41\n",
      "Reference:  106\n",
      "Read:  42\n",
      "Reference:  107\n",
      "Read:  43\n",
      "Reference:  108\n",
      "Read:  44\n",
      "Reference:  109\n",
      "Read:  45\n",
      "Reference:  110\n",
      "Read:  46\n",
      "Reference:  111\n",
      "Read:  47\n",
      "Reference:  112\n",
      "Read:  48\n",
      "Reference:  113\n",
      "Read:  49\n",
      "Reference:  114\n",
      "Read:  50\n",
      "Reference:  115\n",
      "Read:  51\n",
      "Reference:  116\n",
      "Read:  52\n",
      "Reference:  117\n",
      "Read:  53\n",
      "Reference:  118\n",
      "Read:  54\n",
      "Reference:  119\n",
      "Read:  55\n",
      "Reference:  120\n",
      "Read:  56\n",
      "Reference:  121\n",
      "Read:  57\n",
      "Reference:  122\n",
      "Read:  58\n",
      "Reference:  123\n",
      "Read:  59\n",
      "Reference:  124\n",
      "Read:  60\n",
      "Reference:  125\n",
      "Read:  61\n",
      "Reference:  126\n",
      "Read:  62\n",
      "Reference:  127\n",
      "Read:  63\n",
      "Reference:  128\n",
      "Read:  64\n",
      "Reference:  129\n",
      "Read:  65\n",
      "Reference:  130\n",
      "Read:  66\n",
      "Reference:  131\n",
      "Read:  67\n",
      "Reference:  132\n",
      "Read:  68\n",
      "Reference:  133\n",
      "Read:  69\n",
      "Reference:  134\n",
      "Read:  70\n",
      "Reference:  135\n",
      "Read:  71\n",
      "Reference:  136\n",
      "Read:  72\n",
      "Reference:  137\n",
      "Read:  73\n",
      "Reference:  138\n",
      "Read:  74\n",
      "Reference:  139\n",
      "Read:  75\n",
      "Reference:  140\n",
      "Read:  76\n",
      "Reference:  141\n",
      "Read:  77\n",
      "Reference:  142\n",
      "Read:  78\n",
      "Reference:  143\n",
      "Read:  79\n",
      "Reference:  144\n",
      "Read:  80\n",
      "Reference:  145\n",
      "Read:  81\n",
      "Reference:  146\n",
      "Read:  82\n",
      "Reference:  147\n",
      "Read:  83\n",
      "Reference:  148\n",
      "Read:  84\n",
      "Reference:  149\n",
      "Read:  85\n",
      "Reference:  150\n",
      "Read:  86\n",
      "Reference:  151\n",
      "Read:  87\n",
      "Reference:  152\n",
      "Read:  88\n",
      "Reference:  153\n",
      "Read:  89\n",
      "Reference:  154\n",
      "Read:  90\n",
      "Reference:  155\n",
      "Read:  91\n",
      "Reference:  156\n",
      "Read:  92\n",
      "Reference:  157\n",
      "Read:  93\n",
      "Reference:  158\n",
      "Read:  94\n",
      "Reference:  159\n",
      "Read:  95\n",
      "Reference:  160\n",
      "Read:  96\n",
      "Reference:  161\n",
      "Read:  97\n",
      "Reference:  162\n",
      "Read:  98\n",
      "Reference:  163\n",
      "Read:  99\n",
      "Reference:  164\n",
      "Read:  100\n",
      "Reference:  165\n",
      "Read:  101\n",
      "Reference:  166\n",
      "Read:  102\n",
      "Reference:  167\n",
      "Read:  103\n",
      "Reference:  168\n",
      "Read:  104\n",
      "Reference:  169\n",
      "Read:  105\n",
      "Reference:  170\n",
      "Read:  106\n",
      "Reference:  171\n",
      "Read:  107\n",
      "Reference:  172\n",
      "Read:  108\n",
      "Reference:  173\n",
      "Read:  109\n",
      "Reference:  174\n",
      "Read:  110\n",
      "Reference:  175\n",
      "Read:  111\n",
      "Reference:  176\n",
      "Read:  112\n",
      "Reference:  177\n",
      "Read:  113\n",
      "Reference:  178\n",
      "Read:  114\n",
      "Reference:  179\n",
      "Read:  115\n",
      "Reference:  180\n",
      "Read:  116\n",
      "Reference:  181\n",
      "Read:  117\n",
      "Reference:  182\n",
      "Read:  118\n",
      "Reference:  183\n",
      "Read:  119\n",
      "Reference:  184\n",
      "Read:  120\n",
      "Reference:  185\n",
      "Read:  121\n",
      "Reference:  186\n",
      "Read:  122\n",
      "Reference:  187\n",
      "Read:  123\n",
      "Reference:  188\n",
      "Read:  124\n",
      "Reference:  189\n",
      "Read:  125\n",
      "Reference:  190\n",
      "Read:  126\n",
      "Reference:  191\n",
      "Read:  127\n",
      "Reference:  192\n",
      "Read:  128\n",
      "Reference:  193\n",
      "Read:  129\n",
      "Reference:  194\n",
      "Read:  130\n",
      "Reference:  195\n",
      "Read:  131\n",
      "Reference:  196\n",
      "Read:  132\n",
      "Reference:  197\n",
      "Read:  133\n",
      "Reference:  198\n",
      "Read:  134\n",
      "Reference:  199\n",
      "Read:  135\n",
      "Reference:  200\n",
      "Read:  136\n",
      "Reference:  201\n",
      "Read:  137\n",
      "Reference:  202\n",
      "Read:  138\n",
      "Reference:  203\n",
      "Read:  139\n",
      "Reference:  204\n",
      "Read:  140\n",
      "Reference:  205\n",
      "Read:  141\n",
      "Reference:  206\n",
      "Read:  142\n",
      "Reference:  207\n",
      "Read:  143\n",
      "Reference:  208\n",
      "Read:  144\n",
      "Reference:  209\n",
      "Read:  145\n",
      "Reference:  210\n",
      "Read:  146\n",
      "Reference:  211\n",
      "Read:  147\n",
      "Reference:  212\n",
      "Read:  148\n",
      "Reference:  213\n",
      "Read:  149\n"
     ]
    }
   ],
   "source": [
    "# You can use pileup() to access alignment positions. For example:\n",
    "for pileupcolumn in aln.pileup('s_harrisii_sample', 64, 65):\n",
    "    # Position in the alignment.\n",
    "    print('Reference: ', pileupcolumn.pos)\n",
    "    for pileupread in pileupcolumn.pileups:\n",
    "        # Position in the read.\n",
    "        print('Read: ', pileupread.query_position)"
   ]
  },
  {
   "cell_type": "markdown",
   "metadata": {
    "deletable": false,
    "editable": false,
    "nbgrader": {
     "cell_type": "markdown",
     "checksum": "5979c726c9c95b4ff04f824b0b70032d",
     "grade": false,
     "grade_id": "cell-45278df4fd8f81a9",
     "locked": true,
     "schema_version": 3,
     "solution": false,
     "task": false
    }
   },
   "source": [
    "### Questions\n",
    "In the cells below, complete the following tasks:"
   ]
  },
  {
   "cell_type": "markdown",
   "metadata": {
    "deletable": false,
    "editable": false,
    "nbgrader": {
     "cell_type": "markdown",
     "checksum": "1c8f5c3e46962a8c0378e0b78c656fde",
     "grade": false,
     "grade_id": "Q-3-4",
     "locked": true,
     "points": 5,
     "schema_version": 3,
     "solution": false,
     "task": true
    }
   },
   "source": [
    "<div class=\"question\">\n",
    "\n",
    "<h3> Question 3.4 </h3>\n",
    "\n",
    "(5 marks, max 50 words)\n",
    "\n",
    "The *LOC116420406* gene is located at positions 46227 to 67944 of the reference sequence (where position 1 is the first base of the reference sequence).\n",
    "\n",
    "Calculate the mean read depth in the *LOC116420406* gene. Calculate the mean read depth across the whole alignment. Based on your calculations, are the input reads more likely to be from a WES or a WGS experiment? Explain your answer.    \n",
    "    \n",
    "</div>\n",
    "\n"
   ]
  },
  {
   "cell_type": "markdown",
   "metadata": {},
   "source": [
    "#### -- GRADED CELL (5 marks) - complete this cell --\n",
    "\n",
    "The mean depth is $9.8963 \\approx 10$. This implies that the input reads are more likely from a WGS experiment because the typical mean depth is typically much higher for reads from WES. "
   ]
  },
  {
   "cell_type": "markdown",
   "metadata": {
    "deletable": false,
    "editable": false,
    "nbgrader": {
     "cell_type": "markdown",
     "checksum": "531a705488e273aa8bf7ff9ab0b8eed7",
     "grade": false,
     "grade_id": "Q-3-5-info",
     "locked": true,
     "points": 5,
     "schema_version": 3,
     "solution": false,
     "task": true
    }
   },
   "source": [
    "<div class=\"info\">\n",
    "<h3> Question 3.5 </h3>\n",
    "\n",
    "(5 marks)\n",
    "\n",
    "<b>Challenge:</b> Write Python code to plot the read depths for the first 2000 bases of the *LOC116420406* gene as a line graph. \n",
    "- Plot the read depth on the Y axis and plot the genomic position on the X axis, using the numbering of the reference sequence. \n",
    "- [ ] Add appropriate labels to both the X and the Y axes. \n",
    "- [ ] Add an appropriate title. \n",
    "- [ ] The plot should be produced inline, in the Jupyter notebook. \n",
    "- [ ] Your code does not have to include a function.\n",
    "- [ ] You may use the aln pysam.AlignmentFile object as input.\n",
    "\n",
    "</div>"
   ]
  },
  {
   "cell_type": "code",
   "execution_count": null,
   "metadata": {
    "deletable": false,
    "editable": false,
    "nbgrader": {
     "cell_type": "code",
     "checksum": "fcc08a803d8974cc4cda0c11dee65d70",
     "grade": false,
     "grade_id": "cell-422fe967733a3f85",
     "locked": true,
     "schema_version": 3,
     "solution": false,
     "task": false
    }
   },
   "outputs": [],
   "source": [
    "# Here's some Jupyter magic to render plots in the notebook\n",
    "%matplotlib inline\n",
    "\n",
    "# You may want to import some additional packages for building and formatting your graphs (non-essential)\n",
    "import numpy as np\n",
    "import matplotlib.pyplot as plt\n",
    "import seaborn"
   ]
  },
  {
   "cell_type": "code",
   "execution_count": null,
   "metadata": {
    "deletable": false,
    "nbgrader": {
     "cell_type": "code",
     "checksum": "2ea9c48a2875d52abc386ec9c11e7013",
     "grade": false,
     "grade_id": "Q-3-5",
     "locked": false,
     "schema_version": 3,
     "solution": true,
     "task": false
    }
   },
   "outputs": [],
   "source": [
    "# GRADED CELL 3.5 (5 marks, max 1 min run-time)\n",
    "\n",
    "# Use this cell to make your plot.\n",
    "\n",
    "# YOUR CODE HERE\n",
    "# Define start and end of the first 2000 bases of LOC116420406\n",
    "start_pos = 46227\n",
    "end_pos = start_pos + 2000  # 48227\n",
    "\n",
    "# Initialize lists for plotting\n",
    "positions = []\n",
    "depths = []\n",
    "\n",
    "# Collect depth data using pileup\n",
    "for pileupcolumn in aln.pileup('s_harrisii_sample', start=start_pos, stop=end_pos):\n",
    "    positions.append(pileupcolumn.pos + 1)  # Convert from 0-based to 1-based\n",
    "    depths.append(pileupcolumn.nsegments)  # Read depth at this position\n",
    "\n",
    "\n",
    "plt.figure(figsize=(12, 6))\n",
    "seaborn.lineplot(x=positions, y=depths)\n",
    "plt.xlabel('Genomic Position (Reference Sequence)')\n",
    "plt.ylabel('Read Depth')\n",
    "plt.title('Read Depth Across First 2000 Bases of LOC116420406 Gene')\n",
    "plt.tight_layout()\n",
    "plt.show()"
   ]
  },
  {
   "cell_type": "markdown",
   "metadata": {
    "deletable": false,
    "editable": false,
    "nbgrader": {
     "cell_type": "markdown",
     "checksum": "e985ffef8d4c17303614aabfc817bb83",
     "grade": false,
     "grade_id": "cell-34c44a8f6b54aaa9",
     "locked": true,
     "schema_version": 3,
     "solution": false,
     "task": false
    }
   },
   "source": [
    "## Part 4: Variant calling"
   ]
  },
  {
   "cell_type": "markdown",
   "metadata": {
    "deletable": false,
    "editable": false,
    "nbgrader": {
     "cell_type": "markdown",
     "checksum": "19b6fc7efcd02f44e0956c8b26232c8f",
     "grade": false,
     "grade_id": "cell-fe3b1097d2747df1",
     "locked": true,
     "schema_version": 3,
     "solution": false,
     "task": false
    }
   },
   "source": [
    "### Setup"
   ]
  },
  {
   "cell_type": "markdown",
   "metadata": {
    "deletable": false,
    "editable": false,
    "nbgrader": {
     "cell_type": "markdown",
     "checksum": "2db732451feecf406174c88145dcef2f",
     "grade": false,
     "grade_id": "cell-8812892040dc39e7",
     "locked": true,
     "schema_version": 3,
     "solution": false,
     "task": false
    }
   },
   "source": [
    "Consider the read alignment stored in **data/comp90016_assignment_2_dnaA.bam** (with index file **data/comp90016_assignment_2_dnaA.bam.bai**). Reads have been aligned to the reference sequence **comp90016_assignment_2_dnaA_ref.fasta** (with index file **comp90016_assignment_2_dnaA_ref.fasta.fai**).\n",
    "\n",
    "We are interested in finding single nucleotide variants (SNVs) where the sequence of the reads is different to the reference sequence."
   ]
  },
  {
   "cell_type": "markdown",
   "metadata": {
    "deletable": false,
    "editable": false,
    "nbgrader": {
     "cell_type": "markdown",
     "checksum": "709514a77559cd9456ab16ca5179e3c7",
     "grade": false,
     "grade_id": "cell-45278df4fd8f81b7",
     "locked": true,
     "schema_version": 3,
     "solution": false,
     "task": false
    }
   },
   "source": [
    "### Questions\n",
    "In the cells below, complete the following tasks:"
   ]
  },
  {
   "cell_type": "markdown",
   "metadata": {
    "deletable": false,
    "editable": false,
    "nbgrader": {
     "cell_type": "markdown",
     "checksum": "9cd7c3b53050f6c54fee914489bce160",
     "grade": false,
     "grade_id": "Q-4-1-info",
     "locked": true,
     "schema_version": 3,
     "solution": false,
     "task": false
    }
   },
   "source": [
    "<div class=\"info\">\n",
    "<h3> Question 4.1 </h3>\n",
    "\n",
    "(15 marks)\n",
    "\n",
    "Implement an SNV caller for haploid organisms as a Python function.\n",
    "\n",
    "Your function should only call SNVs where there are at least 5 reads aligned to that position, and at least 80% of the aligned bases are a specific non-reference allele.\n",
    "\n",
    "Your function should only call (and output) SNVs (not indels, CNVs or larger variants).\n",
    "\n",
    "- [ ] Assume ref is the filename of a FASTA file containing a single, linear sequence.\n",
    "- [ ] Assume ref_idx is the filename of an index file for ref with the extension .fai.\n",
    "- [ ] Assume alignment is the filename of a BAM file containing reads aligned to the reference sequence ref.\n",
    "- [ ] Assume alignment_idx is the filename of an index file for alignment with the extension .bai.\n",
    "\n",
    "You are not required to use all input files in your function.\n",
    "\n",
    "Return a Pandas dataframe following this VCF-like specification.\n",
    "- [ ] Include one row for every SNV called.\n",
    "- [ ] Include the following labelled columns: CHROM POS REF ALT QUAL INFO\n",
    "- [ ] Set CHROM to the filename of ref (string).\n",
    "- [ ] Set POS to the 1-based position of the variant relative to the reference sequence (integer).\n",
    "- [ ] Set REF to the reference allele (string).\n",
    "- [ ] Set ALT to the non-reference allele (string).\n",
    "- [ ] Set QUAL to the average mapping quality of the non-reference allele (floating-point number).\n",
    "- [ ] Set INFO to the allele frequency of the non-reference allele (floating-point number). This is defined as the fraction of the aligned bases that are the ALT allele.\n",
    "\n",
    "If no SNVs are called, return an empty Pandas dataframe.\n",
    "\n",
    "\n",
    "</div>"
   ]
  },
  {
   "cell_type": "code",
   "execution_count": null,
   "metadata": {
    "deletable": false,
    "nbgrader": {
     "cell_type": "code",
     "checksum": "d2db1b5a4b7b7984a63f78da3e1cb10f",
     "grade": false,
     "grade_id": "Q-4-1",
     "locked": false,
     "schema_version": 3,
     "solution": true,
     "task": false
    }
   },
   "outputs": [],
   "source": [
    "# GRADED CELL 4.1 (15 marks, max 1 min run-time)\n",
    "\n",
    "def call_SNVs(ref, ref_idx, alignment, alignment_idx):\n",
    "    \"\"\"\n",
    "    An SNV caller for haploid organisms.\n",
    "    Only call SNVs where there are at least 5 reads aligned to that position, and at least 80% of the aligned bases are a specific non-reference allele.\n",
    "    Only call (and output) SNVs (not indels or larger variants).\n",
    "    Assume ref is the filename of a FASTA file containing a single, linear sequence.\n",
    "    Assume ref_idx is the filename of an index file for ref with the extension .fai.\n",
    "    Assume alignment is the filename of a BAM file containing reads aligned to the reference sequence ref.\n",
    "    Assume alignment_idx is the filename of an index file for alignment with the extension .bai.\n",
    "    Return a Pandas dataframe following this VCF-like specification.\n",
    "        - Include one row for every SNV called.\n",
    "        - Include the following labelled columns: CHROM POS REF ALT QUAL INFO\n",
    "        - Set CHROM to the filename of ref (string).\n",
    "        - Set POS to the 1-based position of the variant relative to the reference sequence (integer).\n",
    "        - Set REF to the reference allele (string).\n",
    "        - Set ALT to the non-reference allele (string).\n",
    "        - Set QUAL to the average mapping quality of the non-reference allele (floating-point number).\n",
    "        - Set INFO to the allele frequency of the non-reference allele (floating-point number). This is defined as the fraction of the aligned bases that are the ATL allele.\n",
    "    If no SNVs are called, return an empty Pandas dataframe.\n",
    "    \"\"\"\n",
    "   \n",
    "    # YOUR CODE HERE\n",
    "    bamfile = pysam.AlignmentFile(alignment, \"rb\")\n",
    "    ref_fasta = pysam.FastaFile(ref)\n",
    "\n",
    "    # Note pileup() func gives pos by pos view of the genome\n",
    "    records = []\n",
    "    for pileupcolumn in bamfile.pileup(stepper='all', truncate=True): # only positions within range\n",
    "        # my little reminder of pilesup-obj indexing\n",
    "        # pileup_iter = bamfile.pileup()\n",
    "        # first_column = next(pileup_iter)\n",
    "        # for pileup in first_column.pileups:\n",
    "    \n",
    "        pos = pileupcolumn.pos\n",
    "        pileup_reads = pileupcolumn.pileups\n",
    "\n",
    "        # skip edge case - short reads\n",
    "        if len(pileup_reads) < 5:\n",
    "            continue\n",
    "\n",
    "        # base info and mapping quality\n",
    "        base_count = {}\n",
    "        base_qualities = {}\n",
    "\n",
    "        for pileupread in pileup_reads:\n",
    "            # skip skip-positions and indels\n",
    "            if pileupread.is_refskip or pileupread.indel != 0:\n",
    "                continue\n",
    "\n",
    "\n",
    "            base = pileupread.alignment.query_sequence[pileupread.query_position]\n",
    "            #print(pileupread.alignment)\n",
    "            base = base.upper() \n",
    "            base_count[base] = base_count.get(base,0) + 1\n",
    "\n",
    "            if base not in base_qualities:\n",
    "                base_qualities[base] = []\n",
    "            base_qualities[base].append(pileupread.alignment.mapping_quality)\n",
    "\n",
    "            if len(base_count) == 0:\n",
    "                continue\n",
    "\n",
    "\n",
    "            # fetch the reference base\n",
    "            chrom = bamfile.get_reference_name(pileupcolumn.reference_id)\n",
    "            ref_base = ref_fasta.fetch(chrom, pos, pos + 1).upper()\n",
    "\n",
    "            # non-reference bases\n",
    "            non_ref_bases = {b: c for b,c in base_count.items() if b != ref_base}\n",
    "            if len(non_ref_bases) == 0:\n",
    "                continue\n",
    "        \n",
    "            # find the dominant non-ref allele\n",
    "            alt_base, alt_count = max(non_ref_bases.items(), key = lambda x: x[1])\n",
    "            total_count = sum(base_count.values())\n",
    "            allel_freq = alt_count /total_count\n",
    "\n",
    "            if allel_freq >= 0.8:\n",
    "                avg_qual = sum(base_qualities[alt_base]) / len(base_qualities[alt_base])\n",
    "                records.append({\n",
    "                    'CHROM': ref,\n",
    "                    'POS': pos + 1, # convert to 1-based\n",
    "                    'REF': ref_base,\n",
    "                    'ALT': alt_base,\n",
    "                    'QUAL': float(avg_qual),\n",
    "                    'INFO': float(round(allel_freq, 6))   \n",
    "                })\n",
    "            \n",
    "    bamfile.close()\n",
    "    ref_fasta.close()\n",
    "\n",
    "    import pandas as pd # need the pandas library for data type conversion\n",
    "    if records:\n",
    "        dataframe = pd.DataFrame(records, columns=[\"CHROM\", \"POS\", \"REF\", \"ALT\", \"QUAL\", \"INFO\"])\n",
    "    else:\n",
    "        dataframe = pd.DataFrame(columns=[\"CHROM\", \"POS\", \"REF\", \"ALT\", \"QUAL\", \"INFO\"])\n",
    "    \n",
    "    return dataframe"
   ]
  },
  {
   "cell_type": "code",
   "execution_count": null,
   "metadata": {},
   "outputs": [],
   "source": [
    "# ~~ Test your function in this cell ~~\n",
    "print(call_SNVs('./data/comp90016_assignment_2_dnaA_ref.fasta',\n",
    "                './data/comp90016_assignment_2_dnaA_ref.fasta.fai',\n",
    "                './data/comp90016_assignment_2_dnaA.bam',\n",
    "                './data/comp90016_assignment_2_dnaA.bam.bai'))\n",
    "\n",
    "# Output should be a pandas dataframe that looks like this:\n",
    "print(\n",
    "\"\"\"\n",
    "                                          CHROM  POS REF ALT  QUAL  INFO\n",
    "0  ./data/comp90016_assignment_2_dnaA_ref.fasta  141   G   A  60.0   1.0\n",
    "\"\"\"\n",
    ")"
   ]
  },
  {
   "cell_type": "code",
   "execution_count": null,
   "metadata": {
    "deletable": false,
    "editable": false,
    "nbgrader": {
     "cell_type": "code",
     "checksum": "564a22addc4598dec3c5d571c0987a76",
     "grade": true,
     "grade_id": "T-4-1a",
     "locked": true,
     "points": 5,
     "schema_version": 3,
     "solution": false,
     "task": false
    }
   },
   "outputs": [],
   "source": [
    "# --- AUTOGRADING CELL DO NOT EDIT ----\n",
    "\n"
   ]
  },
  {
   "cell_type": "code",
   "execution_count": null,
   "metadata": {
    "deletable": false,
    "editable": false,
    "nbgrader": {
     "cell_type": "code",
     "checksum": "ec149f18592f539b0e76b91ab3656714",
     "grade": true,
     "grade_id": "T-4-1b",
     "locked": true,
     "points": 4,
     "schema_version": 3,
     "solution": false,
     "task": false
    }
   },
   "outputs": [],
   "source": [
    "# --- AUTOGRADING CELL DO NOT EDIT ----\n"
   ]
  },
  {
   "cell_type": "code",
   "execution_count": null,
   "metadata": {
    "deletable": false,
    "editable": false,
    "nbgrader": {
     "cell_type": "code",
     "checksum": "55f3e9b73fc6bb226189b131576933d3",
     "grade": true,
     "grade_id": "T-4-1c",
     "locked": true,
     "points": 2,
     "schema_version": 3,
     "solution": false,
     "task": false
    }
   },
   "outputs": [],
   "source": [
    "# --- AUTOGRADING CELL DO NOT EDIT ----\n"
   ]
  },
  {
   "cell_type": "code",
   "execution_count": null,
   "metadata": {
    "deletable": false,
    "editable": false,
    "nbgrader": {
     "cell_type": "code",
     "checksum": "0f381cda396f863610c0871e9d7447fa",
     "grade": true,
     "grade_id": "T-4-1d",
     "locked": true,
     "points": 2,
     "schema_version": 3,
     "solution": false,
     "task": false
    }
   },
   "outputs": [],
   "source": [
    "# --- AUTOGRADING CELL DO NOT EDIT ----\n"
   ]
  },
  {
   "cell_type": "code",
   "execution_count": null,
   "metadata": {
    "deletable": false,
    "editable": false,
    "nbgrader": {
     "cell_type": "code",
     "checksum": "ae8c53288a356b6ecc368dab48720e25",
     "grade": true,
     "grade_id": "T-4-1e",
     "locked": true,
     "points": 1,
     "schema_version": 3,
     "solution": false,
     "task": false
    }
   },
   "outputs": [],
   "source": [
    "# --- AUTOGRADING CELL DO NOT EDIT ----\n"
   ]
  },
  {
   "cell_type": "code",
   "execution_count": null,
   "metadata": {
    "deletable": false,
    "editable": false,
    "nbgrader": {
     "cell_type": "code",
     "checksum": "8171c39101c409c683d00ef11ee2ff94",
     "grade": true,
     "grade_id": "T-4-1f",
     "locked": true,
     "points": 1,
     "schema_version": 3,
     "solution": false,
     "task": false
    }
   },
   "outputs": [],
   "source": [
    "# --- AUTOGRADING CELL DO NOT EDIT ----\n"
   ]
  },
  {
   "cell_type": "markdown",
   "metadata": {
    "deletable": false,
    "editable": false,
    "nbgrader": {
     "cell_type": "markdown",
     "checksum": "9bf90e68f8257f54d6b0189ff5308e3e",
     "grade": false,
     "grade_id": "cell-5c804f1187504fb9",
     "locked": true,
     "schema_version": 3,
     "solution": false,
     "task": false
    }
   },
   "source": [
    "# END OF ASSIGNMENT"
   ]
  },
  {
   "cell_type": "markdown",
   "metadata": {
    "deletable": false,
    "editable": false,
    "nbgrader": {
     "cell_type": "markdown",
     "checksum": "f1186d05eac33225f8595c7f2a01da07",
     "grade": false,
     "grade_id": "cell-c82c42eca2b5bee4",
     "locked": true,
     "schema_version": 3,
     "solution": false,
     "task": false
    }
   },
   "source": [
    "## Submitting\n",
    "\n",
    "Follow these steps to submit your assignment\n",
    "\n",
    "1) Before you turn this assignment in, make sure everything runs as expected. First, **restart the kernel** (in the menubar, select Kernel$\\rightarrow$Restart) and then **run all cells** (in the menubar, select Cell$\\rightarrow$Run All).\n",
    "\n",
    "2) Make sure you have filled in any place that says `YOUR CODE HERE` or \"YOUR ANSWER HERE\"\n",
    "\n",
    "3) **Clear all output** (in the menubar, select Kernel$\\rightarrow$Restart & Clear Output)\n",
    "\n",
    "4) Your completed notebook file containing all your answers must be turned in via LMS in `.ipynb` format.\n",
    "\n",
    "5) You must also submit a copy of this notebook in `html` format with the output cleared.\n",
    "\n",
    "\n",
    "Your submission should include **only two** files with names formatted as: **Assignment_2.ipynb** and **Assignment_2.html**\n"
   ]
  }
 ],
 "metadata": {
  "kernelspec": {
   "display_name": "Python 3 (ipykernel)",
   "language": "python",
   "name": "python3"
  },
  "language_info": {
   "codemirror_mode": {
    "name": "ipython",
    "version": 3
   },
   "file_extension": ".py",
   "mimetype": "text/x-python",
   "name": "python",
   "nbconvert_exporter": "python",
   "pygments_lexer": "ipython3",
   "version": "3.11.6"
  }
 },
 "nbformat": 4,
 "nbformat_minor": 4
}
